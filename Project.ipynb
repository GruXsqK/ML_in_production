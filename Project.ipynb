{
 "cells": [
  {
   "cell_type": "markdown",
   "metadata": {},
   "source": [
    "# Курсовая работа"
   ]
  },
  {
   "cell_type": "code",
   "execution_count": 1,
   "metadata": {},
   "outputs": [
    {
     "name": "stderr",
     "output_type": "stream",
     "text": [
      "C:\\Users\\GruXsqK\\Anaconda3\\lib\\site-packages\\dask\\config.py:168: YAMLLoadWarning: calling yaml.load() without Loader=... is deprecated, as the default Loader is unsafe. Please read https://msg.pyyaml.org/load for full details.\n",
      "  data = yaml.load(f.read()) or {}\n",
      "C:\\Users\\GruXsqK\\Anaconda3\\lib\\site-packages\\distributed\\config.py:20: YAMLLoadWarning: calling yaml.load() without Loader=... is deprecated, as the default Loader is unsafe. Please read https://msg.pyyaml.org/load for full details.\n",
      "  defaults = yaml.load(f)\n"
     ]
    }
   ],
   "source": [
    "import time\n",
    "from datetime import datetime, timedelta\n",
    "\n",
    "import pandas as pd\n",
    "import numpy as np\n",
    "import xgboost as xgb\n",
    "from catboost import CatBoostClassifier\n",
    "from sklearn.decomposition import PCA, TruncatedSVD\n",
    "import pickle\n",
    "from matplotlib import pyplot as plt\n",
    "import seaborn as sns\n",
    "import warnings\n",
    "warnings.filterwarnings(\"ignore\")\n",
    "\n",
    "from scipy import interp\n",
    "from imblearn.over_sampling import SMOTE, ADASYN\n",
    "from sklearn.preprocessing import MinMaxScaler, StandardScaler\n",
    "from sklearn.linear_model import LogisticRegression as LR\n",
    "from sklearn.neighbors import KNeighborsClassifier as KNC\n",
    "from sklearn.ensemble import RandomForestClassifier as RFC\n",
    "from mpl_toolkits.axes_grid1 import make_axes_locatable\n",
    "from sklearn.model_selection import StratifiedKFold, train_test_split, RandomizedSearchCV\n",
    "from sklearn.feature_selection import chi2, mutual_info_classif, RFECV\n",
    "from sklearn.metrics import precision_score, recall_score, f1_score, precision_recall_curve, roc_curve, auc, \\\n",
    "                            log_loss, roc_auc_score, average_precision_score, confusion_matrix"
   ]
  },
  {
   "cell_type": "code",
   "execution_count": 2,
   "metadata": {},
   "outputs": [],
   "source": [
    "start_notebook = time.time()"
   ]
  },
  {
   "cell_type": "markdown",
   "metadata": {},
   "source": [
    "## Обзор сырых данных"
   ]
  },
  {
   "cell_type": "code",
   "execution_count": 3,
   "metadata": {},
   "outputs": [
    {
     "data": {
      "text/html": [
       "<div>\n",
       "<style scoped>\n",
       "    .dataframe tbody tr th:only-of-type {\n",
       "        vertical-align: middle;\n",
       "    }\n",
       "\n",
       "    .dataframe tbody tr th {\n",
       "        vertical-align: top;\n",
       "    }\n",
       "\n",
       "    .dataframe thead th {\n",
       "        text-align: right;\n",
       "    }\n",
       "</style>\n",
       "<table border=\"1\" class=\"dataframe\">\n",
       "  <thead>\n",
       "    <tr style=\"text-align: right;\">\n",
       "      <th></th>\n",
       "      <th>user_id</th>\n",
       "      <th>age</th>\n",
       "      <th>gender</th>\n",
       "      <th>days_between_reg_fl</th>\n",
       "      <th>days_between_fl_df</th>\n",
       "      <th>has_return_date</th>\n",
       "      <th>has_phone_number</th>\n",
       "    </tr>\n",
       "  </thead>\n",
       "  <tbody>\n",
       "    <tr>\n",
       "      <th>0</th>\n",
       "      <td>e54f91bf5895d0c433fd1cd3092ab4ad94ea953845f4a8...</td>\n",
       "      <td>None</td>\n",
       "      <td>None</td>\n",
       "      <td>0</td>\n",
       "      <td>30</td>\n",
       "      <td>1</td>\n",
       "      <td>1</td>\n",
       "    </tr>\n",
       "    <tr>\n",
       "      <th>1</th>\n",
       "      <td>f1ab2f683a3b37c9f9f6cb107629178cdcc34eaf684b67...</td>\n",
       "      <td>22</td>\n",
       "      <td>M</td>\n",
       "      <td>0</td>\n",
       "      <td>34</td>\n",
       "      <td>1</td>\n",
       "      <td>0</td>\n",
       "    </tr>\n",
       "    <tr>\n",
       "      <th>2</th>\n",
       "      <td>0dc419c3401bb042fea254ae11c4bfc5e1418f2ab63c8b...</td>\n",
       "      <td>22</td>\n",
       "      <td>M</td>\n",
       "      <td>0</td>\n",
       "      <td>13</td>\n",
       "      <td>1</td>\n",
       "      <td>1</td>\n",
       "    </tr>\n",
       "    <tr>\n",
       "      <th>3</th>\n",
       "      <td>bd32ea1b0f4d9289e4a551e84c6858338d352c5ac85b14...</td>\n",
       "      <td>25</td>\n",
       "      <td>F</td>\n",
       "      <td>0</td>\n",
       "      <td>2</td>\n",
       "      <td>1</td>\n",
       "      <td>1</td>\n",
       "    </tr>\n",
       "    <tr>\n",
       "      <th>4</th>\n",
       "      <td>357dc65b7ee8b90d268c9020bc31aef91bd59dc6b27398...</td>\n",
       "      <td>20</td>\n",
       "      <td>M</td>\n",
       "      <td>0</td>\n",
       "      <td>382</td>\n",
       "      <td>1</td>\n",
       "      <td>1</td>\n",
       "    </tr>\n",
       "  </tbody>\n",
       "</table>\n",
       "</div>"
      ],
      "text/plain": [
       "                                             user_id   age gender  \\\n",
       "0  e54f91bf5895d0c433fd1cd3092ab4ad94ea953845f4a8...  None   None   \n",
       "1  f1ab2f683a3b37c9f9f6cb107629178cdcc34eaf684b67...    22      M   \n",
       "2  0dc419c3401bb042fea254ae11c4bfc5e1418f2ab63c8b...    22      M   \n",
       "3  bd32ea1b0f4d9289e4a551e84c6858338d352c5ac85b14...    25      F   \n",
       "4  357dc65b7ee8b90d268c9020bc31aef91bd59dc6b27398...    20      M   \n",
       "\n",
       "   days_between_reg_fl  days_between_fl_df  has_return_date  has_phone_number  \n",
       "0                    0                  30                1                 1  \n",
       "1                    0                  34                1                 0  \n",
       "2                    0                  13                1                 1  \n",
       "3                    0                   2                1                 1  \n",
       "4                    0                 382                1                 1  "
      ]
     },
     "execution_count": 3,
     "metadata": {},
     "output_type": "execute_result"
    }
   ],
   "source": [
    "# Статические сведения\n",
    "profiles = pd.read_csv('train/profiles.zip', sep=';', nrows=5, encoding='utf-8')\n",
    "profiles"
   ]
  },
  {
   "cell_type": "code",
   "execution_count": 4,
   "metadata": {},
   "outputs": [
    {
     "data": {
      "text/html": [
       "<div>\n",
       "<style scoped>\n",
       "    .dataframe tbody tr th:only-of-type {\n",
       "        vertical-align: middle;\n",
       "    }\n",
       "\n",
       "    .dataframe tbody tr th {\n",
       "        vertical-align: top;\n",
       "    }\n",
       "\n",
       "    .dataframe thead th {\n",
       "        text-align: right;\n",
       "    }\n",
       "</style>\n",
       "<table border=\"1\" class=\"dataframe\">\n",
       "  <thead>\n",
       "    <tr style=\"text-align: right;\">\n",
       "      <th></th>\n",
       "      <th>user_id</th>\n",
       "      <th>is_churned</th>\n",
       "      <th>login_last_dt</th>\n",
       "      <th>level</th>\n",
       "      <th>donate_total</th>\n",
       "    </tr>\n",
       "  </thead>\n",
       "  <tbody>\n",
       "    <tr>\n",
       "      <th>0</th>\n",
       "      <td>1e7edd8347e3aaeedf8c494b11240851e3fa0ad231b8f8...</td>\n",
       "      <td>0</td>\n",
       "      <td>2019-09-03</td>\n",
       "      <td>43</td>\n",
       "      <td>88730.00000</td>\n",
       "    </tr>\n",
       "    <tr>\n",
       "      <th>1</th>\n",
       "      <td>f43cac5f14e06ca039b173e14c323ac0c1fd8492f0cf08...</td>\n",
       "      <td>0</td>\n",
       "      <td>2019-09-18</td>\n",
       "      <td>50</td>\n",
       "      <td>44149.00000</td>\n",
       "    </tr>\n",
       "    <tr>\n",
       "      <th>2</th>\n",
       "      <td>cc7450e0b182947998534ef137b05e07109c100aced0b6...</td>\n",
       "      <td>0</td>\n",
       "      <td>2019-09-22</td>\n",
       "      <td>37</td>\n",
       "      <td>44931.00000</td>\n",
       "    </tr>\n",
       "    <tr>\n",
       "      <th>3</th>\n",
       "      <td>5c583d57a1e9e53341fc239d41fb6983e667a04b1b4d94...</td>\n",
       "      <td>0</td>\n",
       "      <td>2019-09-06</td>\n",
       "      <td>20</td>\n",
       "      <td>37538.00000</td>\n",
       "    </tr>\n",
       "    <tr>\n",
       "      <th>4</th>\n",
       "      <td>9bbaa1a2501e8dc83cf6c0c54ef139c75c99de09dcf4dc...</td>\n",
       "      <td>0</td>\n",
       "      <td>2019-09-01</td>\n",
       "      <td>10</td>\n",
       "      <td>4100.97998</td>\n",
       "    </tr>\n",
       "  </tbody>\n",
       "</table>\n",
       "</div>"
      ],
      "text/plain": [
       "                                             user_id  is_churned  \\\n",
       "0  1e7edd8347e3aaeedf8c494b11240851e3fa0ad231b8f8...           0   \n",
       "1  f43cac5f14e06ca039b173e14c323ac0c1fd8492f0cf08...           0   \n",
       "2  cc7450e0b182947998534ef137b05e07109c100aced0b6...           0   \n",
       "3  5c583d57a1e9e53341fc239d41fb6983e667a04b1b4d94...           0   \n",
       "4  9bbaa1a2501e8dc83cf6c0c54ef139c75c99de09dcf4dc...           0   \n",
       "\n",
       "  login_last_dt  level  donate_total  \n",
       "0    2019-09-03     43   88730.00000  \n",
       "1    2019-09-18     50   44149.00000  \n",
       "2    2019-09-22     37   44931.00000  \n",
       "3    2019-09-06     20   37538.00000  \n",
       "4    2019-09-01     10    4100.97998  "
      ]
     },
     "execution_count": 4,
     "metadata": {},
     "output_type": "execute_result"
    }
   ],
   "source": [
    "# Донат и статус игроков\n",
    "sample = pd.read_csv('train/sample.zip', sep=';', nrows=5, encoding='utf-8')\n",
    "sample"
   ]
  },
  {
   "cell_type": "code",
   "execution_count": 5,
   "metadata": {},
   "outputs": [
    {
     "data": {
      "text/html": [
       "<div>\n",
       "<style scoped>\n",
       "    .dataframe tbody tr th:only-of-type {\n",
       "        vertical-align: middle;\n",
       "    }\n",
       "\n",
       "    .dataframe tbody tr th {\n",
       "        vertical-align: top;\n",
       "    }\n",
       "\n",
       "    .dataframe thead th {\n",
       "        text-align: right;\n",
       "    }\n",
       "</style>\n",
       "<table border=\"1\" class=\"dataframe\">\n",
       "  <thead>\n",
       "    <tr style=\"text-align: right;\">\n",
       "      <th></th>\n",
       "      <th>log_dt</th>\n",
       "      <th>user_id</th>\n",
       "      <th>pay_amt</th>\n",
       "      <th>trans_amt</th>\n",
       "    </tr>\n",
       "  </thead>\n",
       "  <tbody>\n",
       "    <tr>\n",
       "      <th>0</th>\n",
       "      <td>2019-08-06</td>\n",
       "      <td>dfbca74f54a4c8cb5ee7e1e3281e8a40bd8b439b3de52f...</td>\n",
       "      <td>488.0</td>\n",
       "      <td>2</td>\n",
       "    </tr>\n",
       "    <tr>\n",
       "      <th>1</th>\n",
       "      <td>2019-09-28</td>\n",
       "      <td>9c302c0a540df3f3ca48642b6c09cca4dc479eb5f23835...</td>\n",
       "      <td>300.0</td>\n",
       "      <td>1</td>\n",
       "    </tr>\n",
       "    <tr>\n",
       "      <th>2</th>\n",
       "      <td>2019-08-22</td>\n",
       "      <td>d6b1d64a61ed83ab5672c990bac8d71fda5011b74269df...</td>\n",
       "      <td>4500.0</td>\n",
       "      <td>1</td>\n",
       "    </tr>\n",
       "    <tr>\n",
       "      <th>3</th>\n",
       "      <td>2019-09-01</td>\n",
       "      <td>f17aa62688b3aac5538c23f2b538b9a89797bc3b40d6d5...</td>\n",
       "      <td>1000.0</td>\n",
       "      <td>1</td>\n",
       "    </tr>\n",
       "    <tr>\n",
       "      <th>4</th>\n",
       "      <td>2019-08-14</td>\n",
       "      <td>cab7c3810da2c1618acde4601fec0feb003f109dfd6883...</td>\n",
       "      <td>18.0</td>\n",
       "      <td>1</td>\n",
       "    </tr>\n",
       "  </tbody>\n",
       "</table>\n",
       "</div>"
      ],
      "text/plain": [
       "       log_dt                                            user_id  pay_amt  \\\n",
       "0  2019-08-06  dfbca74f54a4c8cb5ee7e1e3281e8a40bd8b439b3de52f...    488.0   \n",
       "1  2019-09-28  9c302c0a540df3f3ca48642b6c09cca4dc479eb5f23835...    300.0   \n",
       "2  2019-08-22  d6b1d64a61ed83ab5672c990bac8d71fda5011b74269df...   4500.0   \n",
       "3  2019-09-01  f17aa62688b3aac5538c23f2b538b9a89797bc3b40d6d5...   1000.0   \n",
       "4  2019-08-14  cab7c3810da2c1618acde4601fec0feb003f109dfd6883...     18.0   \n",
       "\n",
       "   trans_amt  \n",
       "0          2  \n",
       "1          1  \n",
       "2          1  \n",
       "3          1  \n",
       "4          1  "
      ]
     },
     "execution_count": 5,
     "metadata": {},
     "output_type": "execute_result"
    }
   ],
   "source": [
    "# Платежи\n",
    "payments = pd.read_csv('train/payments.zip', sep=';', nrows=5, encoding='utf-8')\n",
    "payments"
   ]
  },
  {
   "cell_type": "code",
   "execution_count": 6,
   "metadata": {},
   "outputs": [
    {
     "data": {
      "text/html": [
       "<div>\n",
       "<style scoped>\n",
       "    .dataframe tbody tr th:only-of-type {\n",
       "        vertical-align: middle;\n",
       "    }\n",
       "\n",
       "    .dataframe tbody tr th {\n",
       "        vertical-align: top;\n",
       "    }\n",
       "\n",
       "    .dataframe thead th {\n",
       "        text-align: right;\n",
       "    }\n",
       "</style>\n",
       "<table border=\"1\" class=\"dataframe\">\n",
       "  <thead>\n",
       "    <tr style=\"text-align: right;\">\n",
       "      <th></th>\n",
       "      <th>log_dt</th>\n",
       "      <th>user_id</th>\n",
       "      <th>reports_amt</th>\n",
       "    </tr>\n",
       "  </thead>\n",
       "  <tbody>\n",
       "    <tr>\n",
       "      <th>0</th>\n",
       "      <td>2019-08-14</td>\n",
       "      <td>9395f1b1764c58e82e18a67af55ba01dad809ac022761f...</td>\n",
       "      <td>1</td>\n",
       "    </tr>\n",
       "    <tr>\n",
       "      <th>1</th>\n",
       "      <td>2019-08-19</td>\n",
       "      <td>2036664f62b3ca2a52d9bd2c4c34f2a803c8004d9ee5af...</td>\n",
       "      <td>1</td>\n",
       "    </tr>\n",
       "    <tr>\n",
       "      <th>2</th>\n",
       "      <td>2019-08-15</td>\n",
       "      <td>37c63021a603fc1b2ccb3adfe9346046c6ab78da153491...</td>\n",
       "      <td>2</td>\n",
       "    </tr>\n",
       "    <tr>\n",
       "      <th>3</th>\n",
       "      <td>2019-09-02</td>\n",
       "      <td>904018e3cf927eb936c431cf228abc8417e206dd9553f6...</td>\n",
       "      <td>2</td>\n",
       "    </tr>\n",
       "    <tr>\n",
       "      <th>4</th>\n",
       "      <td>2019-08-25</td>\n",
       "      <td>a089378a18313807f2eeabbfeee7cf4a5a68c3d7c9fe0f...</td>\n",
       "      <td>2</td>\n",
       "    </tr>\n",
       "  </tbody>\n",
       "</table>\n",
       "</div>"
      ],
      "text/plain": [
       "       log_dt                                            user_id  reports_amt\n",
       "0  2019-08-14  9395f1b1764c58e82e18a67af55ba01dad809ac022761f...            1\n",
       "1  2019-08-19  2036664f62b3ca2a52d9bd2c4c34f2a803c8004d9ee5af...            1\n",
       "2  2019-08-15  37c63021a603fc1b2ccb3adfe9346046c6ab78da153491...            2\n",
       "3  2019-09-02  904018e3cf927eb936c431cf228abc8417e206dd9553f6...            2\n",
       "4  2019-08-25  a089378a18313807f2eeabbfeee7cf4a5a68c3d7c9fe0f...            2"
      ]
     },
     "execution_count": 6,
     "metadata": {},
     "output_type": "execute_result"
    }
   ],
   "source": [
    "# Жалобы на игроков\n",
    "reports = pd.read_csv('train/reports.zip', sep=';', nrows=5, encoding='utf-8')\n",
    "reports"
   ]
  },
  {
   "cell_type": "code",
   "execution_count": 7,
   "metadata": {},
   "outputs": [
    {
     "data": {
      "text/html": [
       "<div>\n",
       "<style scoped>\n",
       "    .dataframe tbody tr th:only-of-type {\n",
       "        vertical-align: middle;\n",
       "    }\n",
       "\n",
       "    .dataframe tbody tr th {\n",
       "        vertical-align: top;\n",
       "    }\n",
       "\n",
       "    .dataframe thead th {\n",
       "        text-align: right;\n",
       "    }\n",
       "</style>\n",
       "<table border=\"1\" class=\"dataframe\">\n",
       "  <thead>\n",
       "    <tr style=\"text-align: right;\">\n",
       "      <th></th>\n",
       "      <th>log_dt</th>\n",
       "      <th>user_id</th>\n",
       "      <th>sess_with_abusers_amt</th>\n",
       "    </tr>\n",
       "  </thead>\n",
       "  <tbody>\n",
       "    <tr>\n",
       "      <th>0</th>\n",
       "      <td>2019-09-20</td>\n",
       "      <td>f8f2caba0902acc4b891f23602b5409282a1c619453cc7...</td>\n",
       "      <td>5</td>\n",
       "    </tr>\n",
       "    <tr>\n",
       "      <th>1</th>\n",
       "      <td>2019-09-21</td>\n",
       "      <td>ee602b935ebb19a33f8b955975d9a8a2e568d95ed62270...</td>\n",
       "      <td>3</td>\n",
       "    </tr>\n",
       "    <tr>\n",
       "      <th>2</th>\n",
       "      <td>2019-08-28</td>\n",
       "      <td>50db13c3dc694949fc24c5f8253c8dac6946e16fc2f2e3...</td>\n",
       "      <td>14</td>\n",
       "    </tr>\n",
       "    <tr>\n",
       "      <th>3</th>\n",
       "      <td>2019-08-23</td>\n",
       "      <td>ec5090799e94795b6d85d9f8f36cfa539f21d9c7ab2bc2...</td>\n",
       "      <td>2</td>\n",
       "    </tr>\n",
       "    <tr>\n",
       "      <th>4</th>\n",
       "      <td>2019-08-22</td>\n",
       "      <td>e1dcb04b42380fa9d886ed4aa3b3fc8bd249d34253c8b9...</td>\n",
       "      <td>3</td>\n",
       "    </tr>\n",
       "  </tbody>\n",
       "</table>\n",
       "</div>"
      ],
      "text/plain": [
       "       log_dt                                            user_id  \\\n",
       "0  2019-09-20  f8f2caba0902acc4b891f23602b5409282a1c619453cc7...   \n",
       "1  2019-09-21  ee602b935ebb19a33f8b955975d9a8a2e568d95ed62270...   \n",
       "2  2019-08-28  50db13c3dc694949fc24c5f8253c8dac6946e16fc2f2e3...   \n",
       "3  2019-08-23  ec5090799e94795b6d85d9f8f36cfa539f21d9c7ab2bc2...   \n",
       "4  2019-08-22  e1dcb04b42380fa9d886ed4aa3b3fc8bd249d34253c8b9...   \n",
       "\n",
       "   sess_with_abusers_amt  \n",
       "0                      5  \n",
       "1                      3  \n",
       "2                     14  \n",
       "3                      2  \n",
       "4                      3  "
      ]
     },
     "execution_count": 7,
     "metadata": {},
     "output_type": "execute_result"
    }
   ],
   "source": [
    "# Участие в сессиях с нарушителями\n",
    "abusers = pd.read_csv('train/abusers.zip', sep=';', nrows=5, encoding='utf-8')\n",
    "abusers"
   ]
  },
  {
   "cell_type": "code",
   "execution_count": 8,
   "metadata": {},
   "outputs": [
    {
     "data": {
      "text/html": [
       "<div>\n",
       "<style scoped>\n",
       "    .dataframe tbody tr th:only-of-type {\n",
       "        vertical-align: middle;\n",
       "    }\n",
       "\n",
       "    .dataframe tbody tr th {\n",
       "        vertical-align: top;\n",
       "    }\n",
       "\n",
       "    .dataframe thead th {\n",
       "        text-align: right;\n",
       "    }\n",
       "</style>\n",
       "<table border=\"1\" class=\"dataframe\">\n",
       "  <thead>\n",
       "    <tr style=\"text-align: right;\">\n",
       "      <th></th>\n",
       "      <th>log_dt</th>\n",
       "      <th>user_id</th>\n",
       "      <th>disconnect_amt</th>\n",
       "      <th>session_amt</th>\n",
       "    </tr>\n",
       "  </thead>\n",
       "  <tbody>\n",
       "    <tr>\n",
       "      <th>0</th>\n",
       "      <td>2019-08-10</td>\n",
       "      <td>deb67d0e87069771d646670f6b00bff99d1b03420891c2...</td>\n",
       "      <td>0</td>\n",
       "      <td>1</td>\n",
       "    </tr>\n",
       "    <tr>\n",
       "      <th>1</th>\n",
       "      <td>2019-09-09</td>\n",
       "      <td>3e32fbd5f4e337a512dd1b897cf091e572b795ab277812...</td>\n",
       "      <td>0</td>\n",
       "      <td>3</td>\n",
       "    </tr>\n",
       "    <tr>\n",
       "      <th>2</th>\n",
       "      <td>2019-09-12</td>\n",
       "      <td>73b282dd676e9b05116e64a8101c77293294a0179e0fba...</td>\n",
       "      <td>0</td>\n",
       "      <td>2</td>\n",
       "    </tr>\n",
       "    <tr>\n",
       "      <th>3</th>\n",
       "      <td>2019-08-13</td>\n",
       "      <td>9e97e0838ed2d5ff6bd69bf5740abba9188efa3555353c...</td>\n",
       "      <td>1</td>\n",
       "      <td>2</td>\n",
       "    </tr>\n",
       "    <tr>\n",
       "      <th>4</th>\n",
       "      <td>2019-08-19</td>\n",
       "      <td>30189c2273cde414ab4b6ad2f3654e6fc704d8497388db...</td>\n",
       "      <td>1</td>\n",
       "      <td>2</td>\n",
       "    </tr>\n",
       "  </tbody>\n",
       "</table>\n",
       "</div>"
      ],
      "text/plain": [
       "       log_dt                                            user_id  \\\n",
       "0  2019-08-10  deb67d0e87069771d646670f6b00bff99d1b03420891c2...   \n",
       "1  2019-09-09  3e32fbd5f4e337a512dd1b897cf091e572b795ab277812...   \n",
       "2  2019-09-12  73b282dd676e9b05116e64a8101c77293294a0179e0fba...   \n",
       "3  2019-08-13  9e97e0838ed2d5ff6bd69bf5740abba9188efa3555353c...   \n",
       "4  2019-08-19  30189c2273cde414ab4b6ad2f3654e6fc704d8497388db...   \n",
       "\n",
       "   disconnect_amt  session_amt  \n",
       "0               0            1  \n",
       "1               0            3  \n",
       "2               0            2  \n",
       "3               1            2  \n",
       "4               1            2  "
      ]
     },
     "execution_count": 8,
     "metadata": {},
     "output_type": "execute_result"
    }
   ],
   "source": [
    "# Входы в игру\n",
    "logins = pd.read_csv('train/logins.zip', sep=';', nrows=5, encoding='utf-8')\n",
    "logins"
   ]
  },
  {
   "cell_type": "code",
   "execution_count": 9,
   "metadata": {},
   "outputs": [
    {
     "data": {
      "text/html": [
       "<div>\n",
       "<style scoped>\n",
       "    .dataframe tbody tr th:only-of-type {\n",
       "        vertical-align: middle;\n",
       "    }\n",
       "\n",
       "    .dataframe tbody tr th {\n",
       "        vertical-align: top;\n",
       "    }\n",
       "\n",
       "    .dataframe thead th {\n",
       "        text-align: right;\n",
       "    }\n",
       "</style>\n",
       "<table border=\"1\" class=\"dataframe\">\n",
       "  <thead>\n",
       "    <tr style=\"text-align: right;\">\n",
       "      <th></th>\n",
       "      <th>log_dt</th>\n",
       "      <th>user_id</th>\n",
       "      <th>avg_min_ping</th>\n",
       "    </tr>\n",
       "  </thead>\n",
       "  <tbody>\n",
       "    <tr>\n",
       "      <th>0</th>\n",
       "      <td>2019-09-21</td>\n",
       "      <td>d146c346f1adb74686ff5ad24cec0962c0c0be7f1adcc5...</td>\n",
       "      <td>4.000000</td>\n",
       "    </tr>\n",
       "    <tr>\n",
       "      <th>1</th>\n",
       "      <td>2019-09-16</td>\n",
       "      <td>d64abfcfb5c0af725fb83d2d5115d828c1074a69747ffc...</td>\n",
       "      <td>61.000000</td>\n",
       "    </tr>\n",
       "    <tr>\n",
       "      <th>2</th>\n",
       "      <td>2019-09-29</td>\n",
       "      <td>955f77e93ea5d654a595bdfdd4ba72dffe1cda66ae1c67...</td>\n",
       "      <td>23.000000</td>\n",
       "    </tr>\n",
       "    <tr>\n",
       "      <th>3</th>\n",
       "      <td>2019-09-18</td>\n",
       "      <td>cc7a5e519c78a292b4375ff16c986b071c8a02f7dae2a1...</td>\n",
       "      <td>30.000000</td>\n",
       "    </tr>\n",
       "    <tr>\n",
       "      <th>4</th>\n",
       "      <td>2019-09-29</td>\n",
       "      <td>9df615f28505af55c08673b4211bafedbbe8b7cda41cd5...</td>\n",
       "      <td>44.666668</td>\n",
       "    </tr>\n",
       "  </tbody>\n",
       "</table>\n",
       "</div>"
      ],
      "text/plain": [
       "       log_dt                                            user_id  avg_min_ping\n",
       "0  2019-09-21  d146c346f1adb74686ff5ad24cec0962c0c0be7f1adcc5...      4.000000\n",
       "1  2019-09-16  d64abfcfb5c0af725fb83d2d5115d828c1074a69747ffc...     61.000000\n",
       "2  2019-09-29  955f77e93ea5d654a595bdfdd4ba72dffe1cda66ae1c67...     23.000000\n",
       "3  2019-09-18  cc7a5e519c78a292b4375ff16c986b071c8a02f7dae2a1...     30.000000\n",
       "4  2019-09-29  9df615f28505af55c08673b4211bafedbbe8b7cda41cd5...     44.666668"
      ]
     },
     "execution_count": 9,
     "metadata": {},
     "output_type": "execute_result"
    }
   ],
   "source": [
    "# Качество связи с игровыми серверами (пинг)\n",
    "pings = pd.read_csv('train/pings.zip', sep=';', nrows=5, encoding='utf-8')\n",
    "pings"
   ]
  },
  {
   "cell_type": "code",
   "execution_count": 10,
   "metadata": {},
   "outputs": [
    {
     "data": {
      "text/html": [
       "<div>\n",
       "<style scoped>\n",
       "    .dataframe tbody tr th:only-of-type {\n",
       "        vertical-align: middle;\n",
       "    }\n",
       "\n",
       "    .dataframe tbody tr th {\n",
       "        vertical-align: top;\n",
       "    }\n",
       "\n",
       "    .dataframe thead th {\n",
       "        text-align: right;\n",
       "    }\n",
       "</style>\n",
       "<table border=\"1\" class=\"dataframe\">\n",
       "  <thead>\n",
       "    <tr style=\"text-align: right;\">\n",
       "      <th></th>\n",
       "      <th>log_dt</th>\n",
       "      <th>user_id</th>\n",
       "      <th>kd</th>\n",
       "      <th>win_rate</th>\n",
       "      <th>leavings_rate</th>\n",
       "      <th>session_player</th>\n",
       "    </tr>\n",
       "  </thead>\n",
       "  <tbody>\n",
       "    <tr>\n",
       "      <th>0</th>\n",
       "      <td>2019-09-29</td>\n",
       "      <td>3ea931e4262fd0b02b806af34aca37a9e1c0bc3d46b39c...</td>\n",
       "      <td>1.140845</td>\n",
       "      <td>1.333333</td>\n",
       "      <td>0.000000</td>\n",
       "      <td>4103.0</td>\n",
       "    </tr>\n",
       "    <tr>\n",
       "      <th>1</th>\n",
       "      <td>2019-09-07</td>\n",
       "      <td>91f7f580798df049e7fbd82f9c8978dc8526a6d3820d3e...</td>\n",
       "      <td>1.017544</td>\n",
       "      <td>0.000000</td>\n",
       "      <td>0.000000</td>\n",
       "      <td>2502.0</td>\n",
       "    </tr>\n",
       "    <tr>\n",
       "      <th>2</th>\n",
       "      <td>2019-08-07</td>\n",
       "      <td>9f197d8152463a06e8a9108c442c238cdd7e4d4e2fdda9...</td>\n",
       "      <td>1.230179</td>\n",
       "      <td>0.576923</td>\n",
       "      <td>0.073171</td>\n",
       "      <td>24222.0</td>\n",
       "    </tr>\n",
       "    <tr>\n",
       "      <th>3</th>\n",
       "      <td>2019-09-20</td>\n",
       "      <td>5e4713eea35cb8fc8e2faa7d5b82e409ee089aec9ceb8b...</td>\n",
       "      <td>1.036364</td>\n",
       "      <td>1.000000</td>\n",
       "      <td>0.000000</td>\n",
       "      <td>4158.0</td>\n",
       "    </tr>\n",
       "    <tr>\n",
       "      <th>4</th>\n",
       "      <td>2019-09-21</td>\n",
       "      <td>0555ca8f0b13c290378939b512533f8037e41795a9dab1...</td>\n",
       "      <td>1.369318</td>\n",
       "      <td>0.142857</td>\n",
       "      <td>0.000000</td>\n",
       "      <td>3735.0</td>\n",
       "    </tr>\n",
       "  </tbody>\n",
       "</table>\n",
       "</div>"
      ],
      "text/plain": [
       "       log_dt                                            user_id        kd  \\\n",
       "0  2019-09-29  3ea931e4262fd0b02b806af34aca37a9e1c0bc3d46b39c...  1.140845   \n",
       "1  2019-09-07  91f7f580798df049e7fbd82f9c8978dc8526a6d3820d3e...  1.017544   \n",
       "2  2019-08-07  9f197d8152463a06e8a9108c442c238cdd7e4d4e2fdda9...  1.230179   \n",
       "3  2019-09-20  5e4713eea35cb8fc8e2faa7d5b82e409ee089aec9ceb8b...  1.036364   \n",
       "4  2019-09-21  0555ca8f0b13c290378939b512533f8037e41795a9dab1...  1.369318   \n",
       "\n",
       "   win_rate  leavings_rate  session_player  \n",
       "0  1.333333       0.000000          4103.0  \n",
       "1  0.000000       0.000000          2502.0  \n",
       "2  0.576923       0.073171         24222.0  \n",
       "3  1.000000       0.000000          4158.0  \n",
       "4  0.142857       0.000000          3735.0  "
      ]
     },
     "execution_count": 10,
     "metadata": {},
     "output_type": "execute_result"
    }
   ],
   "source": [
    "# Игровые сессии\n",
    "sessions = pd.read_csv('train/sessions.zip', sep=';', nrows=5, encoding='utf-8')\n",
    "sessions"
   ]
  },
  {
   "cell_type": "markdown",
   "metadata": {},
   "source": [
    "### Описание полей сырых данных\n",
    "\n",
    "__profiles__ - профили\n",
    "\n",
    "* user_id - идентификатор игрока (во всех остальных файлах имеет тот же смысл)\n",
    "* age - возраст (получен из даты рождения, что указана в БД)\n",
    "* gender - пол (M - Male, F - Female)\n",
    "* days_between_reg_fl - дней между регистрацией и первым входом\n",
    "* days_between_fl_df - дней между первым входом и первым платежом\n",
    "* has_return_date - есть дата возврата (игрок когда-то уходил и возвращался)\n",
    "* has_phone_number - есть привязка номера телефона к аккаунту\n",
    "\n",
    "__payments__ - платежи\n",
    "\n",
    "* log_dt - дата события (во всех остальных файлах имеет тот же смысл)\n",
    "* pay_amt - размер внесенных средств (сумма платежей за данную дату)\n",
    "* trans_amt - кол-во транзакций за данную даты\n",
    "\n",
    "__reports__ - жалобы игрока на других пользователей\n",
    "\n",
    "* reports_amt - кол-во жалоб (на читы/оскорбления)\n",
    "\n",
    "__abusers__ - сессии с нарушителями\n",
    "\n",
    "* sess_with_abusers_amt - кол-во сессий с теми, на кого жаловались другие игроки\n",
    "\n",
    "__logins__ - входы\n",
    "\n",
    "* disconnect_amt - кол-во завершений игры из-за технической проблемы\n",
    "* session_amt - кол-во сессий (от входа в клиент игры до выхода)\n",
    "\n",
    "__pings__ - пинг до серверов (чем меньше, тем лучше интернет соединение и игра меньше \"глючит\")\n",
    "\n",
    "* avg_min_ping - средний за данную дату пинг до ближайшего сервера\n",
    "\n",
    "__sessions__ - информация о сессиях (матчах)\n",
    "\n",
    "* kd - Kills/Deaths - отношение убийств к смертям, то есть насколько успешно играл пользователь\n",
    "* win_rate - Wins/Matches - отношение кол-во матчей, закончившихся победой, к общему числу матчей, тоже мера успешности\n",
    "* leavings_rate - Leavings/Matches - отношение кол-во матчей, покинутых игроком, к общему числу матчей\n",
    "* session_player - суммарное время в матчах за данную дату (в секундах)\n",
    "\n",
    "__shop__ - активность в магазине\n",
    "\n",
    "* silver_spent - траты серебра\n",
    "* gold_spent - траты золота"
   ]
  },
  {
   "cell_type": "markdown",
   "metadata": {},
   "source": [
    "## Создание датасета"
   ]
  },
  {
   "cell_type": "code",
   "execution_count": 11,
   "metadata": {},
   "outputs": [],
   "source": [
    "def time_format(sec):\n",
    "    return str(timedelta(seconds=sec))\n",
    "\n",
    "\n",
    "def build_dataset_raw(churned_start_date='2019-01-01', \n",
    "                      churned_end_date='2019-02-01', \n",
    "                      inter_list=[(1,7),(8,14)],\n",
    "                      raw_data_path='train/',\n",
    "                      dataset_path='dataset/', \n",
    "                      mode='train'):\n",
    "    \n",
    "    start_t = time.time()\n",
    " \n",
    "    sample = pd.read_csv('{}sample.zip'.format(raw_data_path), sep=';', na_values=['\\\\N', 'None'], encoding='utf-8')\n",
    "    profiles = pd.read_csv('{}profiles.zip'.format(raw_data_path), sep=';', na_values=['\\\\N', 'None'], encoding='utf-8')\n",
    "    payments = pd.read_csv('{}payments.zip'.format(raw_data_path), sep=';', na_values=['\\\\N', 'None'], encoding='utf-8')\n",
    "    reports = pd.read_csv('{}reports.zip'.format(raw_data_path), sep=';', na_values=['\\\\N', 'None'], encoding='utf-8')\n",
    "    abusers = pd.read_csv('{}abusers.zip'.format(raw_data_path), sep=';', na_values=['\\\\N', 'None'], encoding='utf-8')\n",
    "    logins = pd.read_csv('{}logins.zip'.format(raw_data_path), sep=';', na_values=['\\\\N', 'None'], encoding='utf-8')\n",
    "    pings = pd.read_csv('{}pings.zip'.format(raw_data_path), sep=';', na_values=['\\\\N', 'None'], encoding='utf-8')\n",
    "    sessions = pd.read_csv('{}sessions.zip'.format(raw_data_path), sep=';', na_values=['\\\\N', 'None'], encoding='utf-8')\n",
    "    shop = pd.read_csv('{}shop.zip'.format(raw_data_path), sep=';', na_values=['\\\\N', 'None'], encoding='utf-8')\n",
    "    \n",
    "    print('Run time (reading csv files): {}'.format(time_format(time.time()-start_t)))    \n",
    "#-----------------------------------------------------------------------------------------------------    \n",
    "    print('NO dealing with outliers, missing values and categorical features...')\n",
    "#-----------------------------------------------------------------------------------------------------        \n",
    "    # На основании дня отвала (last_login_dt) строим признаки, которые описывают активность игрока перед уходом\n",
    "    \n",
    "    print('Creating dataset...')\n",
    "    # Создадим пустой датасет - в зависимости от режима построения датасета - train или test\n",
    "    if mode == 'train':\n",
    "        dataset = sample.copy()[['user_id', 'is_churned', 'level', 'donate_total']]\n",
    "    elif mode == 'test':\n",
    "        dataset = sample.copy()[['user_id', 'level', 'donate_total']]\n",
    "\n",
    "    # Пройдемся по всем источникам, содержащим \"динамичекие\" данные\n",
    "    for df in [payments, reports, abusers, logins, pings, sessions, shop]:\n",
    "\n",
    "        # Получим 'day_num_before_churn' для каждого из значений в источнике для определения недели\n",
    "        data = pd.merge(sample[['user_id', 'login_last_dt']], df, on='user_id')\n",
    "        data['day_num_before_churn'] = 1 + (data['login_last_dt'].apply(lambda x: datetime.strptime(x, '%Y-%m-%d')) - \n",
    "                                data['log_dt'].apply(lambda x: datetime.strptime(x, '%Y-%m-%d'))).apply(lambda x: x.days)\n",
    "        df_features = data[['user_id']].drop_duplicates().reset_index(drop=True)\n",
    "\n",
    "        # Для каждого признака создадим признаки для каждого из времененно интервала (в нашем примере 4 интервала по 7 дней)\n",
    "        features = list(set(data.columns) - set(['user_id', 'login_last_dt', 'log_dt', 'day_num_before_churn']))\n",
    "        print('Processing with features:', features)\n",
    "        for feature in features:\n",
    "            for i, inter in enumerate(inter_list):\n",
    "                inter_df = data.loc[data['day_num_before_churn'].between(inter[0], inter[1], inclusive=True)].\\\n",
    "                                groupby('user_id')[feature].mean().reset_index().\\\n",
    "                                rename(index=str, columns={feature: feature+'_{}'.format(i+1)})\n",
    "                df_features = pd.merge(df_features, inter_df, how='left', on='user_id')\n",
    "\n",
    "        # Добавляем построенные признаки в датасет\n",
    "        dataset = pd.merge(dataset, df_features, how='left', on='user_id')\n",
    "        \n",
    "        print('Run time (calculating features): {}'.format(time_format(time.time()-start_t)))\n",
    "\n",
    "    # Добавляем \"статические\" признаки\n",
    "    dataset = pd.merge(dataset, profiles, on='user_id')\n",
    "#---------------------------------------------------------------------------------------------------------------------------\n",
    "    dataset.to_csv('{}dataset_raw_{}.csv'.format(dataset_path, mode), sep=';', index=False)\n",
    "    print('Dataset is successfully built and saved to {}, run time \"build_dataset_raw\": {}'.\\\n",
    "          format(dataset_path, time_format(time.time()-start_t)))"
   ]
  },
  {
   "cell_type": "code",
   "execution_count": 12,
   "metadata": {},
   "outputs": [],
   "source": [
    "# Следует из исходных данных\n",
    "CHURNED_START_DATE = '2019-09-01' \n",
    "CHURNED_END_DATE = '2019-10-01'\n",
    "\n",
    "INTER_1 = (1,7)\n",
    "INTER_2 = (8,14)\n",
    "INTER_3 = (15,21)\n",
    "INTER_4 = (22,28)\n",
    "INTER_LIST = [INTER_1, INTER_2, INTER_3, INTER_4]"
   ]
  },
  {
   "cell_type": "code",
   "execution_count": 13,
   "metadata": {},
   "outputs": [
    {
     "name": "stdout",
     "output_type": "stream",
     "text": [
      "Run time (reading csv files): 0:02:04.645988\n",
      "NO dealing with outliers, missing values and categorical features...\n",
      "Creating dataset...\n",
      "Processing with features: ['trans_amt', 'pay_amt']\n",
      "Run time (calculating features): 0:02:32.730848\n",
      "Processing with features: ['reports_amt']\n",
      "Run time (calculating features): 0:04:16.044541\n",
      "Processing with features: ['sess_with_abusers_amt']\n",
      "Run time (calculating features): 0:09:19.347308\n",
      "Processing with features: ['session_amt', 'disconnect_amt']\n",
      "Run time (calculating features): 0:15:21.284447\n",
      "Processing with features: ['avg_min_ping']\n",
      "Run time (calculating features): 0:21:09.377718\n",
      "Processing with features: ['kd', 'leavings_rate', 'session_player', 'win_rate']\n",
      "Run time (calculating features): 0:27:12.761622\n",
      "Processing with features: ['gold_spent', 'silver_spent']\n",
      "Run time (calculating features): 0:33:39.531911\n",
      "Dataset is successfully built and saved to dataset/, run time \"build_dataset_raw\": 0:34:11.479177\n"
     ]
    }
   ],
   "source": [
    "build_dataset_raw(churned_start_date=CHURNED_START_DATE,\n",
    "                  churned_end_date=CHURNED_END_DATE,\n",
    "                  inter_list=INTER_LIST,\n",
    "                  raw_data_path='train/',\n",
    "                  dataset_path='dataset/', \n",
    "                  mode='train')"
   ]
  },
  {
   "cell_type": "code",
   "execution_count": 14,
   "metadata": {},
   "outputs": [
    {
     "name": "stdout",
     "output_type": "stream",
     "text": [
      "Run time (reading csv files): 0:00:11.796456\n",
      "NO dealing with outliers, missing values and categorical features...\n",
      "Creating dataset...\n",
      "Processing with features: ['trans_amt', 'pay_amt']\n",
      "Run time (calculating features): 0:00:14.611339\n",
      "Processing with features: ['reports_amt']\n",
      "Run time (calculating features): 0:00:24.356214\n",
      "Processing with features: ['sess_with_abusers_amt']\n",
      "Run time (calculating features): 0:00:53.319224\n",
      "Processing with features: ['session_amt', 'disconnect_amt']\n",
      "Run time (calculating features): 0:01:28.185086\n",
      "Processing with features: ['avg_min_ping']\n",
      "Run time (calculating features): 0:02:01.995546\n",
      "Processing with features: ['kd', 'leavings_rate', 'session_player', 'win_rate']\n",
      "Run time (calculating features): 0:02:36.483073\n",
      "Processing with features: ['gold_spent', 'silver_spent']\n",
      "Run time (calculating features): 0:03:12.404756\n",
      "Dataset is successfully built and saved to dataset/, run time \"build_dataset_raw\": 0:03:15.363071\n"
     ]
    }
   ],
   "source": [
    "build_dataset_raw(churned_start_date=CHURNED_START_DATE,\n",
    "                  churned_end_date=CHURNED_END_DATE,\n",
    "                  inter_list=INTER_LIST,\n",
    "                  raw_data_path='test/',\n",
    "                  dataset_path='dataset/', \n",
    "                  mode='test')"
   ]
  },
  {
   "cell_type": "code",
   "execution_count": 15,
   "metadata": {},
   "outputs": [
    {
     "name": "stdout",
     "output_type": "stream",
     "text": [
      "(469475, 62) (44764, 61)\n"
     ]
    }
   ],
   "source": [
    "train = pd.read_csv('dataset/dataset_raw_train.csv', sep=';')\n",
    "test = pd.read_csv('dataset/dataset_raw_test.csv', sep=';')\n",
    "print(train.shape, test.shape)"
   ]
  },
  {
   "cell_type": "code",
   "execution_count": 16,
   "metadata": {},
   "outputs": [
    {
     "data": {
      "text/html": [
       "<div>\n",
       "<style scoped>\n",
       "    .dataframe tbody tr th:only-of-type {\n",
       "        vertical-align: middle;\n",
       "    }\n",
       "\n",
       "    .dataframe tbody tr th {\n",
       "        vertical-align: top;\n",
       "    }\n",
       "\n",
       "    .dataframe thead th {\n",
       "        text-align: right;\n",
       "    }\n",
       "</style>\n",
       "<table border=\"1\" class=\"dataframe\">\n",
       "  <thead>\n",
       "    <tr style=\"text-align: right;\">\n",
       "      <th></th>\n",
       "      <th>user_id</th>\n",
       "      <th>is_churned</th>\n",
       "      <th>level</th>\n",
       "      <th>donate_total</th>\n",
       "      <th>trans_amt_1</th>\n",
       "      <th>trans_amt_2</th>\n",
       "      <th>trans_amt_3</th>\n",
       "      <th>trans_amt_4</th>\n",
       "      <th>pay_amt_1</th>\n",
       "      <th>pay_amt_2</th>\n",
       "      <th>...</th>\n",
       "      <th>silver_spent_1</th>\n",
       "      <th>silver_spent_2</th>\n",
       "      <th>silver_spent_3</th>\n",
       "      <th>silver_spent_4</th>\n",
       "      <th>age</th>\n",
       "      <th>gender</th>\n",
       "      <th>days_between_reg_fl</th>\n",
       "      <th>days_between_fl_df</th>\n",
       "      <th>has_return_date</th>\n",
       "      <th>has_phone_number</th>\n",
       "    </tr>\n",
       "  </thead>\n",
       "  <tbody>\n",
       "    <tr>\n",
       "      <th>0</th>\n",
       "      <td>1e7edd8347e3aaeedf8c494b11240851e3fa0ad231b8f8...</td>\n",
       "      <td>0</td>\n",
       "      <td>43</td>\n",
       "      <td>88730.00000</td>\n",
       "      <td>NaN</td>\n",
       "      <td>NaN</td>\n",
       "      <td>NaN</td>\n",
       "      <td>NaN</td>\n",
       "      <td>NaN</td>\n",
       "      <td>NaN</td>\n",
       "      <td>...</td>\n",
       "      <td>0.000000</td>\n",
       "      <td>40900.0</td>\n",
       "      <td>300.000000</td>\n",
       "      <td>25000.000000</td>\n",
       "      <td>26.0</td>\n",
       "      <td>M</td>\n",
       "      <td>0</td>\n",
       "      <td>7</td>\n",
       "      <td>1</td>\n",
       "      <td>1</td>\n",
       "    </tr>\n",
       "    <tr>\n",
       "      <th>1</th>\n",
       "      <td>f43cac5f14e06ca039b173e14c323ac0c1fd8492f0cf08...</td>\n",
       "      <td>0</td>\n",
       "      <td>50</td>\n",
       "      <td>44149.00000</td>\n",
       "      <td>NaN</td>\n",
       "      <td>NaN</td>\n",
       "      <td>NaN</td>\n",
       "      <td>NaN</td>\n",
       "      <td>NaN</td>\n",
       "      <td>NaN</td>\n",
       "      <td>...</td>\n",
       "      <td>0.000000</td>\n",
       "      <td>41480.0</td>\n",
       "      <td>6266.666667</td>\n",
       "      <td>1400.000000</td>\n",
       "      <td>27.0</td>\n",
       "      <td>M</td>\n",
       "      <td>0</td>\n",
       "      <td>37</td>\n",
       "      <td>1</td>\n",
       "      <td>1</td>\n",
       "    </tr>\n",
       "    <tr>\n",
       "      <th>2</th>\n",
       "      <td>cc7450e0b182947998534ef137b05e07109c100aced0b6...</td>\n",
       "      <td>0</td>\n",
       "      <td>37</td>\n",
       "      <td>44931.00000</td>\n",
       "      <td>1.0</td>\n",
       "      <td>1.0</td>\n",
       "      <td>NaN</td>\n",
       "      <td>2.0</td>\n",
       "      <td>63.000000</td>\n",
       "      <td>350.0</td>\n",
       "      <td>...</td>\n",
       "      <td>14471.428571</td>\n",
       "      <td>31400.0</td>\n",
       "      <td>5714.285714</td>\n",
       "      <td>414.285714</td>\n",
       "      <td>21.0</td>\n",
       "      <td>M</td>\n",
       "      <td>0</td>\n",
       "      <td>153</td>\n",
       "      <td>1</td>\n",
       "      <td>1</td>\n",
       "    </tr>\n",
       "    <tr>\n",
       "      <th>3</th>\n",
       "      <td>5c583d57a1e9e53341fc239d41fb6983e667a04b1b4d94...</td>\n",
       "      <td>0</td>\n",
       "      <td>20</td>\n",
       "      <td>37538.00000</td>\n",
       "      <td>NaN</td>\n",
       "      <td>NaN</td>\n",
       "      <td>NaN</td>\n",
       "      <td>NaN</td>\n",
       "      <td>NaN</td>\n",
       "      <td>NaN</td>\n",
       "      <td>...</td>\n",
       "      <td>NaN</td>\n",
       "      <td>NaN</td>\n",
       "      <td>NaN</td>\n",
       "      <td>NaN</td>\n",
       "      <td>22.0</td>\n",
       "      <td>M</td>\n",
       "      <td>0</td>\n",
       "      <td>156</td>\n",
       "      <td>1</td>\n",
       "      <td>1</td>\n",
       "    </tr>\n",
       "    <tr>\n",
       "      <th>4</th>\n",
       "      <td>9bbaa1a2501e8dc83cf6c0c54ef139c75c99de09dcf4dc...</td>\n",
       "      <td>0</td>\n",
       "      <td>10</td>\n",
       "      <td>4100.97998</td>\n",
       "      <td>1.0</td>\n",
       "      <td>NaN</td>\n",
       "      <td>NaN</td>\n",
       "      <td>NaN</td>\n",
       "      <td>66.580002</td>\n",
       "      <td>NaN</td>\n",
       "      <td>...</td>\n",
       "      <td>0.000000</td>\n",
       "      <td>0.0</td>\n",
       "      <td>1666.666667</td>\n",
       "      <td>9838.000000</td>\n",
       "      <td>2.0</td>\n",
       "      <td>M</td>\n",
       "      <td>0</td>\n",
       "      <td>21</td>\n",
       "      <td>1</td>\n",
       "      <td>1</td>\n",
       "    </tr>\n",
       "  </tbody>\n",
       "</table>\n",
       "<p>5 rows × 62 columns</p>\n",
       "</div>"
      ],
      "text/plain": [
       "                                             user_id  is_churned  level  \\\n",
       "0  1e7edd8347e3aaeedf8c494b11240851e3fa0ad231b8f8...           0     43   \n",
       "1  f43cac5f14e06ca039b173e14c323ac0c1fd8492f0cf08...           0     50   \n",
       "2  cc7450e0b182947998534ef137b05e07109c100aced0b6...           0     37   \n",
       "3  5c583d57a1e9e53341fc239d41fb6983e667a04b1b4d94...           0     20   \n",
       "4  9bbaa1a2501e8dc83cf6c0c54ef139c75c99de09dcf4dc...           0     10   \n",
       "\n",
       "   donate_total  trans_amt_1  trans_amt_2  trans_amt_3  trans_amt_4  \\\n",
       "0   88730.00000          NaN          NaN          NaN          NaN   \n",
       "1   44149.00000          NaN          NaN          NaN          NaN   \n",
       "2   44931.00000          1.0          1.0          NaN          2.0   \n",
       "3   37538.00000          NaN          NaN          NaN          NaN   \n",
       "4    4100.97998          1.0          NaN          NaN          NaN   \n",
       "\n",
       "   pay_amt_1  pay_amt_2  ...  silver_spent_1  silver_spent_2  silver_spent_3  \\\n",
       "0        NaN        NaN  ...        0.000000         40900.0      300.000000   \n",
       "1        NaN        NaN  ...        0.000000         41480.0     6266.666667   \n",
       "2  63.000000      350.0  ...    14471.428571         31400.0     5714.285714   \n",
       "3        NaN        NaN  ...             NaN             NaN             NaN   \n",
       "4  66.580002        NaN  ...        0.000000             0.0     1666.666667   \n",
       "\n",
       "   silver_spent_4   age  gender  days_between_reg_fl  days_between_fl_df  \\\n",
       "0    25000.000000  26.0       M                    0                   7   \n",
       "1     1400.000000  27.0       M                    0                  37   \n",
       "2      414.285714  21.0       M                    0                 153   \n",
       "3             NaN  22.0       M                    0                 156   \n",
       "4     9838.000000   2.0       M                    0                  21   \n",
       "\n",
       "   has_return_date  has_phone_number  \n",
       "0                1                 1  \n",
       "1                1                 1  \n",
       "2                1                 1  \n",
       "3                1                 1  \n",
       "4                1                 1  \n",
       "\n",
       "[5 rows x 62 columns]"
      ]
     },
     "execution_count": 16,
     "metadata": {},
     "output_type": "execute_result"
    }
   ],
   "source": [
    "train.head()"
   ]
  },
  {
   "cell_type": "code",
   "execution_count": 17,
   "metadata": {},
   "outputs": [
    {
     "name": "stdout",
     "output_type": "stream",
     "text": [
      "<class 'pandas.core.frame.DataFrame'>\n",
      "RangeIndex: 469475 entries, 0 to 469474\n",
      "Data columns (total 62 columns):\n",
      "user_id                    469475 non-null object\n",
      "is_churned                 469475 non-null int64\n",
      "level                      469475 non-null int64\n",
      "donate_total               469475 non-null float64\n",
      "trans_amt_1                67485 non-null float64\n",
      "trans_amt_2                60928 non-null float64\n",
      "trans_amt_3                56720 non-null float64\n",
      "trans_amt_4                57896 non-null float64\n",
      "pay_amt_1                  67485 non-null float64\n",
      "pay_amt_2                  60928 non-null float64\n",
      "pay_amt_3                  56720 non-null float64\n",
      "pay_amt_4                  57896 non-null float64\n",
      "reports_amt_1              144916 non-null float64\n",
      "reports_amt_2              145909 non-null float64\n",
      "reports_amt_3              147492 non-null float64\n",
      "reports_amt_4              147503 non-null float64\n",
      "sess_with_abusers_amt_1    261313 non-null float64\n",
      "sess_with_abusers_amt_2    259432 non-null float64\n",
      "sess_with_abusers_amt_3    261064 non-null float64\n",
      "sess_with_abusers_amt_4    263303 non-null float64\n",
      "session_amt_1              293492 non-null float64\n",
      "session_amt_2              286263 non-null float64\n",
      "session_amt_3              285912 non-null float64\n",
      "session_amt_4              286945 non-null float64\n",
      "disconnect_amt_1           293492 non-null float64\n",
      "disconnect_amt_2           286263 non-null float64\n",
      "disconnect_amt_3           285912 non-null float64\n",
      "disconnect_amt_4           286945 non-null float64\n",
      "avg_min_ping_1             293275 non-null float64\n",
      "avg_min_ping_2             286095 non-null float64\n",
      "avg_min_ping_3             285812 non-null float64\n",
      "avg_min_ping_4             287043 non-null float64\n",
      "kd_1                       280518 non-null float64\n",
      "kd_2                       275710 non-null float64\n",
      "kd_3                       276624 non-null float64\n",
      "kd_4                       278314 non-null float64\n",
      "leavings_rate_1            280518 non-null float64\n",
      "leavings_rate_2            275710 non-null float64\n",
      "leavings_rate_3            276624 non-null float64\n",
      "leavings_rate_4            278314 non-null float64\n",
      "session_player_1           280518 non-null float64\n",
      "session_player_2           275710 non-null float64\n",
      "session_player_3           276624 non-null float64\n",
      "session_player_4           278314 non-null float64\n",
      "win_rate_1                 280518 non-null float64\n",
      "win_rate_2                 275710 non-null float64\n",
      "win_rate_3                 276624 non-null float64\n",
      "win_rate_4                 278314 non-null float64\n",
      "gold_spent_1               300355 non-null float64\n",
      "gold_spent_2               293676 non-null float64\n",
      "gold_spent_3               292993 non-null float64\n",
      "gold_spent_4               291965 non-null float64\n",
      "silver_spent_1             300355 non-null float64\n",
      "silver_spent_2             293676 non-null float64\n",
      "silver_spent_3             292993 non-null float64\n",
      "silver_spent_4             291965 non-null float64\n",
      "age                        390924 non-null float64\n",
      "gender                     407337 non-null object\n",
      "days_between_reg_fl        469475 non-null int64\n",
      "days_between_fl_df         469475 non-null int64\n",
      "has_return_date            469475 non-null int64\n",
      "has_phone_number           469475 non-null int64\n",
      "dtypes: float64(54), int64(6), object(2)\n",
      "memory usage: 222.1+ MB\n"
     ]
    }
   ],
   "source": [
    "train.info()"
   ]
  },
  {
   "cell_type": "markdown",
   "metadata": {},
   "source": [
    "## Обработка датасета"
   ]
  },
  {
   "cell_type": "code",
   "execution_count": 18,
   "metadata": {},
   "outputs": [],
   "source": [
    "def prepare_dataset(dataset, \n",
    "                    dataset_type='train',\n",
    "                    dataset_path='dataset/'):\n",
    "    print(dataset_type)\n",
    "    start_t = time.time()\n",
    "    print('Dealing with missing values, outliers, categorical features...')\n",
    "    \n",
    "    # Профили\n",
    "    dataset['age'] = dataset['age'].fillna(dataset['age'].median())\n",
    "    dataset['gender'] = dataset['gender'].fillna(dataset['gender'].mode()[0])\n",
    "    dataset.loc[~dataset['gender'].isin(['M', 'F']), 'gender'] = dataset['gender'].mode()[0]\n",
    "    dataset['gender'] = dataset['gender'].map({'M': 1., 'F':0.})\n",
    "    dataset.loc[(dataset['age'] > 80) | (dataset['age'] < 7), 'age'] = round(dataset['age'].median())\n",
    "    dataset.loc[dataset['days_between_fl_df'] < -1, 'days_between_fl_df'] = -1\n",
    "    # Пинги\n",
    "    for period in range(1,len(INTER_LIST)+1):\n",
    "        col = 'avg_min_ping_{}'.format(period)\n",
    "        dataset.loc[(dataset[col] < 0) | \n",
    "                    (dataset[col].isnull()), col] = dataset.loc[dataset[col] >= 0][col].median()\n",
    "    # Сессии и прочее\n",
    "    dataset.fillna(0, inplace=True)\n",
    "    dataset.to_csv('{}dataset_{}.csv'.format(dataset_path, dataset_type), sep=';', index=False)\n",
    "         \n",
    "    print('Dataset is successfully prepared and saved to {}, run time (dealing with bad values): {}'.\\\n",
    "          format(dataset_path, time_format(time.time()-start_t)))"
   ]
  },
  {
   "cell_type": "code",
   "execution_count": 19,
   "metadata": {},
   "outputs": [
    {
     "name": "stdout",
     "output_type": "stream",
     "text": [
      "train\n",
      "Dealing with missing values, outliers, categorical features...\n",
      "Dataset is successfully prepared and saved to dataset/, run time (dealing with bad values): 0:00:36.707378\n",
      "test\n",
      "Dealing with missing values, outliers, categorical features...\n",
      "Dataset is successfully prepared and saved to dataset/, run time (dealing with bad values): 0:00:03.450440\n"
     ]
    }
   ],
   "source": [
    "prepare_dataset(dataset=train, dataset_type='train')\n",
    "prepare_dataset(dataset=test, dataset_type='test')"
   ]
  },
  {
   "cell_type": "code",
   "execution_count": 20,
   "metadata": {},
   "outputs": [],
   "source": [
    "train_new = pd.read_csv('dataset/dataset_train.csv', sep=';')\n",
    "test_new = pd.read_csv('dataset/dataset_test.csv', sep=';')"
   ]
  },
  {
   "cell_type": "code",
   "execution_count": 21,
   "metadata": {},
   "outputs": [
    {
     "name": "stdout",
     "output_type": "stream",
     "text": [
      "<class 'pandas.core.frame.DataFrame'>\n",
      "RangeIndex: 469475 entries, 0 to 469474\n",
      "Data columns (total 62 columns):\n",
      "user_id                    469475 non-null object\n",
      "is_churned                 469475 non-null int64\n",
      "level                      469475 non-null int64\n",
      "donate_total               469475 non-null float64\n",
      "trans_amt_1                469475 non-null float64\n",
      "trans_amt_2                469475 non-null float64\n",
      "trans_amt_3                469475 non-null float64\n",
      "trans_amt_4                469475 non-null float64\n",
      "pay_amt_1                  469475 non-null float64\n",
      "pay_amt_2                  469475 non-null float64\n",
      "pay_amt_3                  469475 non-null float64\n",
      "pay_amt_4                  469475 non-null float64\n",
      "reports_amt_1              469475 non-null float64\n",
      "reports_amt_2              469475 non-null float64\n",
      "reports_amt_3              469475 non-null float64\n",
      "reports_amt_4              469475 non-null float64\n",
      "sess_with_abusers_amt_1    469475 non-null float64\n",
      "sess_with_abusers_amt_2    469475 non-null float64\n",
      "sess_with_abusers_amt_3    469475 non-null float64\n",
      "sess_with_abusers_amt_4    469475 non-null float64\n",
      "session_amt_1              469475 non-null float64\n",
      "session_amt_2              469475 non-null float64\n",
      "session_amt_3              469475 non-null float64\n",
      "session_amt_4              469475 non-null float64\n",
      "disconnect_amt_1           469475 non-null float64\n",
      "disconnect_amt_2           469475 non-null float64\n",
      "disconnect_amt_3           469475 non-null float64\n",
      "disconnect_amt_4           469475 non-null float64\n",
      "avg_min_ping_1             469475 non-null float64\n",
      "avg_min_ping_2             469475 non-null float64\n",
      "avg_min_ping_3             469475 non-null float64\n",
      "avg_min_ping_4             469475 non-null float64\n",
      "kd_1                       469475 non-null float64\n",
      "kd_2                       469475 non-null float64\n",
      "kd_3                       469475 non-null float64\n",
      "kd_4                       469475 non-null float64\n",
      "leavings_rate_1            469475 non-null float64\n",
      "leavings_rate_2            469475 non-null float64\n",
      "leavings_rate_3            469475 non-null float64\n",
      "leavings_rate_4            469475 non-null float64\n",
      "session_player_1           469475 non-null float64\n",
      "session_player_2           469475 non-null float64\n",
      "session_player_3           469475 non-null float64\n",
      "session_player_4           469475 non-null float64\n",
      "win_rate_1                 469475 non-null float64\n",
      "win_rate_2                 469475 non-null float64\n",
      "win_rate_3                 469475 non-null float64\n",
      "win_rate_4                 469475 non-null float64\n",
      "gold_spent_1               469475 non-null float64\n",
      "gold_spent_2               469475 non-null float64\n",
      "gold_spent_3               469475 non-null float64\n",
      "gold_spent_4               469475 non-null float64\n",
      "silver_spent_1             469475 non-null float64\n",
      "silver_spent_2             469475 non-null float64\n",
      "silver_spent_3             469475 non-null float64\n",
      "silver_spent_4             469475 non-null float64\n",
      "age                        469475 non-null float64\n",
      "gender                     469475 non-null float64\n",
      "days_between_reg_fl        469475 non-null int64\n",
      "days_between_fl_df         469475 non-null int64\n",
      "has_return_date            469475 non-null int64\n",
      "has_phone_number           469475 non-null int64\n",
      "dtypes: float64(55), int64(6), object(1)\n",
      "memory usage: 222.1+ MB\n"
     ]
    }
   ],
   "source": [
    "train_new.info()"
   ]
  },
  {
   "cell_type": "code",
   "execution_count": 22,
   "metadata": {},
   "outputs": [
    {
     "data": {
      "text/html": [
       "<div>\n",
       "<style scoped>\n",
       "    .dataframe tbody tr th:only-of-type {\n",
       "        vertical-align: middle;\n",
       "    }\n",
       "\n",
       "    .dataframe tbody tr th {\n",
       "        vertical-align: top;\n",
       "    }\n",
       "\n",
       "    .dataframe thead th {\n",
       "        text-align: right;\n",
       "    }\n",
       "</style>\n",
       "<table border=\"1\" class=\"dataframe\">\n",
       "  <thead>\n",
       "    <tr style=\"text-align: right;\">\n",
       "      <th></th>\n",
       "      <th>is_churned</th>\n",
       "      <th>level</th>\n",
       "      <th>donate_total</th>\n",
       "      <th>trans_amt_1</th>\n",
       "      <th>trans_amt_2</th>\n",
       "      <th>trans_amt_3</th>\n",
       "      <th>trans_amt_4</th>\n",
       "      <th>pay_amt_1</th>\n",
       "      <th>pay_amt_2</th>\n",
       "      <th>pay_amt_3</th>\n",
       "      <th>...</th>\n",
       "      <th>silver_spent_1</th>\n",
       "      <th>silver_spent_2</th>\n",
       "      <th>silver_spent_3</th>\n",
       "      <th>silver_spent_4</th>\n",
       "      <th>age</th>\n",
       "      <th>gender</th>\n",
       "      <th>days_between_reg_fl</th>\n",
       "      <th>days_between_fl_df</th>\n",
       "      <th>has_return_date</th>\n",
       "      <th>has_phone_number</th>\n",
       "    </tr>\n",
       "  </thead>\n",
       "  <tbody>\n",
       "    <tr>\n",
       "      <th>count</th>\n",
       "      <td>469475.000000</td>\n",
       "      <td>469475.000000</td>\n",
       "      <td>4.694750e+05</td>\n",
       "      <td>469475.000000</td>\n",
       "      <td>469475.000000</td>\n",
       "      <td>469475.000000</td>\n",
       "      <td>469475.000000</td>\n",
       "      <td>469475.000000</td>\n",
       "      <td>469475.000000</td>\n",
       "      <td>469475.000000</td>\n",
       "      <td>...</td>\n",
       "      <td>4.694750e+05</td>\n",
       "      <td>4.694750e+05</td>\n",
       "      <td>4.694750e+05</td>\n",
       "      <td>4.694750e+05</td>\n",
       "      <td>469475.000000</td>\n",
       "      <td>469475.000000</td>\n",
       "      <td>469475.000000</td>\n",
       "      <td>469475.000000</td>\n",
       "      <td>469475.000000</td>\n",
       "      <td>469475.000000</td>\n",
       "    </tr>\n",
       "    <tr>\n",
       "      <th>mean</th>\n",
       "      <td>0.029448</td>\n",
       "      <td>26.792698</td>\n",
       "      <td>4.800206e+04</td>\n",
       "      <td>0.198513</td>\n",
       "      <td>0.182546</td>\n",
       "      <td>0.173069</td>\n",
       "      <td>0.173995</td>\n",
       "      <td>140.415895</td>\n",
       "      <td>134.262708</td>\n",
       "      <td>129.077459</td>\n",
       "      <td>...</td>\n",
       "      <td>6.444131e+03</td>\n",
       "      <td>5.700765e+03</td>\n",
       "      <td>4.550476e+03</td>\n",
       "      <td>4.724096e+03</td>\n",
       "      <td>26.002226</td>\n",
       "      <td>0.933899</td>\n",
       "      <td>14.340597</td>\n",
       "      <td>218.709164</td>\n",
       "      <td>0.882946</td>\n",
       "      <td>0.830589</td>\n",
       "    </tr>\n",
       "    <tr>\n",
       "      <th>std</th>\n",
       "      <td>0.169058</td>\n",
       "      <td>12.680296</td>\n",
       "      <td>8.576742e+04</td>\n",
       "      <td>0.573882</td>\n",
       "      <td>0.567848</td>\n",
       "      <td>0.562879</td>\n",
       "      <td>0.553329</td>\n",
       "      <td>597.573949</td>\n",
       "      <td>603.785240</td>\n",
       "      <td>613.631584</td>\n",
       "      <td>...</td>\n",
       "      <td>2.559970e+04</td>\n",
       "      <td>1.978590e+04</td>\n",
       "      <td>1.452183e+04</td>\n",
       "      <td>1.475799e+04</td>\n",
       "      <td>8.341266</td>\n",
       "      <td>0.248460</td>\n",
       "      <td>114.818230</td>\n",
       "      <td>363.410345</td>\n",
       "      <td>0.321485</td>\n",
       "      <td>0.375115</td>\n",
       "    </tr>\n",
       "    <tr>\n",
       "      <th>min</th>\n",
       "      <td>0.000000</td>\n",
       "      <td>10.000000</td>\n",
       "      <td>6.000000e-02</td>\n",
       "      <td>0.000000</td>\n",
       "      <td>0.000000</td>\n",
       "      <td>0.000000</td>\n",
       "      <td>0.000000</td>\n",
       "      <td>0.000000</td>\n",
       "      <td>0.000000</td>\n",
       "      <td>0.000000</td>\n",
       "      <td>...</td>\n",
       "      <td>0.000000e+00</td>\n",
       "      <td>0.000000e+00</td>\n",
       "      <td>0.000000e+00</td>\n",
       "      <td>0.000000e+00</td>\n",
       "      <td>7.000000</td>\n",
       "      <td>0.000000</td>\n",
       "      <td>-1.000000</td>\n",
       "      <td>-1.000000</td>\n",
       "      <td>0.000000</td>\n",
       "      <td>0.000000</td>\n",
       "    </tr>\n",
       "    <tr>\n",
       "      <th>25%</th>\n",
       "      <td>0.000000</td>\n",
       "      <td>17.000000</td>\n",
       "      <td>6.312000e+03</td>\n",
       "      <td>0.000000</td>\n",
       "      <td>0.000000</td>\n",
       "      <td>0.000000</td>\n",
       "      <td>0.000000</td>\n",
       "      <td>0.000000</td>\n",
       "      <td>0.000000</td>\n",
       "      <td>0.000000</td>\n",
       "      <td>...</td>\n",
       "      <td>0.000000e+00</td>\n",
       "      <td>0.000000e+00</td>\n",
       "      <td>0.000000e+00</td>\n",
       "      <td>0.000000e+00</td>\n",
       "      <td>20.000000</td>\n",
       "      <td>1.000000</td>\n",
       "      <td>0.000000</td>\n",
       "      <td>8.000000</td>\n",
       "      <td>1.000000</td>\n",
       "      <td>1.000000</td>\n",
       "    </tr>\n",
       "    <tr>\n",
       "      <th>50%</th>\n",
       "      <td>0.000000</td>\n",
       "      <td>23.000000</td>\n",
       "      <td>2.019600e+04</td>\n",
       "      <td>0.000000</td>\n",
       "      <td>0.000000</td>\n",
       "      <td>0.000000</td>\n",
       "      <td>0.000000</td>\n",
       "      <td>0.000000</td>\n",
       "      <td>0.000000</td>\n",
       "      <td>0.000000</td>\n",
       "      <td>...</td>\n",
       "      <td>0.000000e+00</td>\n",
       "      <td>0.000000e+00</td>\n",
       "      <td>0.000000e+00</td>\n",
       "      <td>0.000000e+00</td>\n",
       "      <td>24.000000</td>\n",
       "      <td>1.000000</td>\n",
       "      <td>0.000000</td>\n",
       "      <td>56.000000</td>\n",
       "      <td>1.000000</td>\n",
       "      <td>1.000000</td>\n",
       "    </tr>\n",
       "    <tr>\n",
       "      <th>75%</th>\n",
       "      <td>0.000000</td>\n",
       "      <td>36.000000</td>\n",
       "      <td>5.543250e+04</td>\n",
       "      <td>0.000000</td>\n",
       "      <td>0.000000</td>\n",
       "      <td>0.000000</td>\n",
       "      <td>0.000000</td>\n",
       "      <td>0.000000</td>\n",
       "      <td>0.000000</td>\n",
       "      <td>0.000000</td>\n",
       "      <td>...</td>\n",
       "      <td>4.500000e+03</td>\n",
       "      <td>4.000000e+03</td>\n",
       "      <td>3.542857e+03</td>\n",
       "      <td>3.800000e+03</td>\n",
       "      <td>31.000000</td>\n",
       "      <td>1.000000</td>\n",
       "      <td>0.000000</td>\n",
       "      <td>266.000000</td>\n",
       "      <td>1.000000</td>\n",
       "      <td>1.000000</td>\n",
       "    </tr>\n",
       "    <tr>\n",
       "      <th>max</th>\n",
       "      <td>1.000000</td>\n",
       "      <td>50.000000</td>\n",
       "      <td>4.356043e+06</td>\n",
       "      <td>18.000000</td>\n",
       "      <td>44.285714</td>\n",
       "      <td>26.857143</td>\n",
       "      <td>18.000000</td>\n",
       "      <td>56700.000000</td>\n",
       "      <td>56598.857143</td>\n",
       "      <td>46400.000000</td>\n",
       "      <td>...</td>\n",
       "      <td>8.060050e+06</td>\n",
       "      <td>1.618050e+06</td>\n",
       "      <td>2.244387e+06</td>\n",
       "      <td>1.514500e+06</td>\n",
       "      <td>80.000000</td>\n",
       "      <td>1.000000</td>\n",
       "      <td>2534.000000</td>\n",
       "      <td>2683.000000</td>\n",
       "      <td>1.000000</td>\n",
       "      <td>1.000000</td>\n",
       "    </tr>\n",
       "  </tbody>\n",
       "</table>\n",
       "<p>8 rows × 61 columns</p>\n",
       "</div>"
      ],
      "text/plain": [
       "          is_churned          level  donate_total    trans_amt_1  \\\n",
       "count  469475.000000  469475.000000  4.694750e+05  469475.000000   \n",
       "mean        0.029448      26.792698  4.800206e+04       0.198513   \n",
       "std         0.169058      12.680296  8.576742e+04       0.573882   \n",
       "min         0.000000      10.000000  6.000000e-02       0.000000   \n",
       "25%         0.000000      17.000000  6.312000e+03       0.000000   \n",
       "50%         0.000000      23.000000  2.019600e+04       0.000000   \n",
       "75%         0.000000      36.000000  5.543250e+04       0.000000   \n",
       "max         1.000000      50.000000  4.356043e+06      18.000000   \n",
       "\n",
       "         trans_amt_2    trans_amt_3    trans_amt_4      pay_amt_1  \\\n",
       "count  469475.000000  469475.000000  469475.000000  469475.000000   \n",
       "mean        0.182546       0.173069       0.173995     140.415895   \n",
       "std         0.567848       0.562879       0.553329     597.573949   \n",
       "min         0.000000       0.000000       0.000000       0.000000   \n",
       "25%         0.000000       0.000000       0.000000       0.000000   \n",
       "50%         0.000000       0.000000       0.000000       0.000000   \n",
       "75%         0.000000       0.000000       0.000000       0.000000   \n",
       "max        44.285714      26.857143      18.000000   56700.000000   \n",
       "\n",
       "           pay_amt_2      pay_amt_3  ...  silver_spent_1  silver_spent_2  \\\n",
       "count  469475.000000  469475.000000  ...    4.694750e+05    4.694750e+05   \n",
       "mean      134.262708     129.077459  ...    6.444131e+03    5.700765e+03   \n",
       "std       603.785240     613.631584  ...    2.559970e+04    1.978590e+04   \n",
       "min         0.000000       0.000000  ...    0.000000e+00    0.000000e+00   \n",
       "25%         0.000000       0.000000  ...    0.000000e+00    0.000000e+00   \n",
       "50%         0.000000       0.000000  ...    0.000000e+00    0.000000e+00   \n",
       "75%         0.000000       0.000000  ...    4.500000e+03    4.000000e+03   \n",
       "max     56598.857143   46400.000000  ...    8.060050e+06    1.618050e+06   \n",
       "\n",
       "       silver_spent_3  silver_spent_4            age         gender  \\\n",
       "count    4.694750e+05    4.694750e+05  469475.000000  469475.000000   \n",
       "mean     4.550476e+03    4.724096e+03      26.002226       0.933899   \n",
       "std      1.452183e+04    1.475799e+04       8.341266       0.248460   \n",
       "min      0.000000e+00    0.000000e+00       7.000000       0.000000   \n",
       "25%      0.000000e+00    0.000000e+00      20.000000       1.000000   \n",
       "50%      0.000000e+00    0.000000e+00      24.000000       1.000000   \n",
       "75%      3.542857e+03    3.800000e+03      31.000000       1.000000   \n",
       "max      2.244387e+06    1.514500e+06      80.000000       1.000000   \n",
       "\n",
       "       days_between_reg_fl  days_between_fl_df  has_return_date  \\\n",
       "count        469475.000000       469475.000000    469475.000000   \n",
       "mean             14.340597          218.709164         0.882946   \n",
       "std             114.818230          363.410345         0.321485   \n",
       "min              -1.000000           -1.000000         0.000000   \n",
       "25%               0.000000            8.000000         1.000000   \n",
       "50%               0.000000           56.000000         1.000000   \n",
       "75%               0.000000          266.000000         1.000000   \n",
       "max            2534.000000         2683.000000         1.000000   \n",
       "\n",
       "       has_phone_number  \n",
       "count     469475.000000  \n",
       "mean           0.830589  \n",
       "std            0.375115  \n",
       "min            0.000000  \n",
       "25%            1.000000  \n",
       "50%            1.000000  \n",
       "75%            1.000000  \n",
       "max            1.000000  \n",
       "\n",
       "[8 rows x 61 columns]"
      ]
     },
     "execution_count": 22,
     "metadata": {},
     "output_type": "execute_result"
    }
   ],
   "source": [
    "train_new.describe()"
   ]
  },
  {
   "cell_type": "code",
   "execution_count": 23,
   "metadata": {},
   "outputs": [
    {
     "data": {
      "text/plain": [
       "0    455650\n",
       "1     13825\n",
       "Name: is_churned, dtype: int64"
      ]
     },
     "execution_count": 23,
     "metadata": {},
     "output_type": "execute_result"
    }
   ],
   "source": [
    "train_new['is_churned'].value_counts()"
   ]
  },
  {
   "cell_type": "markdown",
   "metadata": {},
   "source": [
    "## Балансировка классов"
   ]
  },
  {
   "cell_type": "code",
   "execution_count": 24,
   "metadata": {},
   "outputs": [],
   "source": [
    "X = train_new.drop(['user_id', 'is_churned'], axis=1)\n",
    "y = train_new['is_churned']\n",
    "\n",
    "X_mm = StandardScaler().fit_transform(X)"
   ]
  },
  {
   "cell_type": "code",
   "execution_count": 25,
   "metadata": {},
   "outputs": [],
   "source": [
    "X_train, X_test, y_train, y_test = train_test_split(X_mm, \n",
    "                                                    y, \n",
    "                                                    test_size=0.3,\n",
    "                                                    shuffle=True, \n",
    "                                                    stratify=y, \n",
    "                                                    random_state=100)\n",
    "\n",
    "# Снизим дизбаланс классов\n",
    "X_train_balanced, y_train_balanced = ADASYN(random_state=21, sampling_strategy=0.4).fit_sample(X_train, y_train)"
   ]
  },
  {
   "cell_type": "code",
   "execution_count": 26,
   "metadata": {},
   "outputs": [
    {
     "name": "stdout",
     "output_type": "stream",
     "text": [
      "До: Counter({0: 318955, 1: 9677})\n",
      "После: Counter({0: 318955, 1: 126695})\n"
     ]
    }
   ],
   "source": [
    "from collections import Counter\n",
    "\n",
    "print('До:', Counter(y_train.values))\n",
    "print('После:', Counter(y_train_balanced))"
   ]
  },
  {
   "cell_type": "markdown",
   "metadata": {},
   "source": [
    "## Выбор модели"
   ]
  },
  {
   "cell_type": "code",
   "execution_count": 27,
   "metadata": {},
   "outputs": [],
   "source": [
    "def evaluation(y_true, y_pred, y_prob):\n",
    "    precision = precision_score(y_true=y_true, y_pred=y_pred)\n",
    "    recall = recall_score(y_true=y_true, y_pred=y_pred)\n",
    "    f1 = f1_score(y_true=y_true, y_pred=y_pred)\n",
    "    ll = log_loss(y_true=y_true, y_pred=y_prob)\n",
    "    roc_auc = roc_auc_score(y_true=y_true, y_score=y_prob)\n",
    "    print('Precision: {}'.format(precision))\n",
    "    print('Recall: {}'.format(recall))\n",
    "    print('F1: {}'.format(f1))\n",
    "    print('Log Loss: {}'.format(ll)) \n",
    "    print('ROC AUC: {}'.format(roc_auc)) \n",
    "    return precision, recall, f1, ll, roc_auc\n",
    "\n",
    "def model_fit_predict(clf, X_train, y_train, X_test, y_test):\n",
    "    start_t = time.time()\n",
    "    clf.fit(X_train, y_train)\n",
    "    predict_proba_test = clf.predict_proba(X_test)\n",
    "    predict_test = clf.predict(X_test)\n",
    "    precision_test, recall_test, f1_test, log_loss_test, roc_auc_test = \\\n",
    "        evaluation(y_test, predict_test, predict_proba_test[:, 1])\n",
    "    print(f'\\n{clf.__class__} fit and predict is successfully\\nrun time: {time_format(time.time()-start_t)}')\n",
    "    return clf\n",
    "\n",
    "def plot_importance(importance, features, name):\n",
    "    fi = pd.DataFrame(list(zip(features, importance))).sort_values(by=1, ascending=False)\n",
    "    plt.figure(figsize=(16,6))\n",
    "    plt.bar(range(fi.shape[0]), fi[1], align='center')\n",
    "    plt.xticks(range(fi.shape[0]), fi[0], rotation=90)\n",
    "    plt.title(name)\n",
    "    plt.show()\n",
    "    return fi"
   ]
  },
  {
   "cell_type": "markdown",
   "metadata": {},
   "source": [
    "### Logistic Regression"
   ]
  },
  {
   "cell_type": "code",
   "execution_count": 28,
   "metadata": {},
   "outputs": [
    {
     "name": "stdout",
     "output_type": "stream",
     "text": [
      "Precision: 0.188451390298356\n",
      "Recall: 0.44768563162970104\n",
      "F1: 0.2652478217397514\n",
      "Log Loss: 0.3080261049505507\n",
      "ROC AUC: 0.8081784147838015\n",
      "\n",
      "<class 'sklearn.linear_model._logistic.LogisticRegression'> fit and predict is successfully\n",
      "run time: 0:01:15.434872\n"
     ]
    },
    {
     "data": {
      "text/plain": [
       "LogisticRegression(C=1.0, class_weight=None, dual=False, fit_intercept=True,\n",
       "                   intercept_scaling=1, l1_ratio=0.01, max_iter=100,\n",
       "                   multi_class='auto', n_jobs=-1, penalty='elasticnet',\n",
       "                   random_state=21, solver='saga', tol=0.0001, verbose=0,\n",
       "                   warm_start=False)"
      ]
     },
     "execution_count": 28,
     "metadata": {},
     "output_type": "execute_result"
    }
   ],
   "source": [
    "clf_lr = LR(n_jobs=-1, random_state=21, solver='saga', penalty='elasticnet', l1_ratio=0.01)\n",
    "model_fit_predict(clf_lr, X_train_balanced, y_train_balanced, X_test, y_test)"
   ]
  },
  {
   "cell_type": "markdown",
   "metadata": {},
   "source": [
    "### Random Forest Classifier"
   ]
  },
  {
   "cell_type": "code",
   "execution_count": 29,
   "metadata": {},
   "outputs": [
    {
     "name": "stdout",
     "output_type": "stream",
     "text": [
      "Precision: 0.34706016929764355\n",
      "Recall: 0.36571841851494696\n",
      "F1: 0.35614508745157886\n",
      "Log Loss: 0.12004784417010665\n",
      "ROC AUC: 0.9102903055507614\n",
      "\n",
      "<class 'sklearn.ensemble._forest.RandomForestClassifier'> fit and predict is successfully\n",
      "run time: 0:04:12.023797\n"
     ]
    },
    {
     "data": {
      "text/plain": [
       "RandomForestClassifier(bootstrap=True, ccp_alpha=0.0, class_weight=None,\n",
       "                       criterion='gini', max_depth=None, max_features='auto',\n",
       "                       max_leaf_nodes=None, max_samples=None,\n",
       "                       min_impurity_decrease=0.0, min_impurity_split=None,\n",
       "                       min_samples_leaf=3, min_samples_split=2,\n",
       "                       min_weight_fraction_leaf=0.0, n_estimators=500,\n",
       "                       n_jobs=-1, oob_score=False, random_state=21, verbose=0,\n",
       "                       warm_start=False)"
      ]
     },
     "execution_count": 29,
     "metadata": {},
     "output_type": "execute_result"
    }
   ],
   "source": [
    "clf_rfc = RFC(n_estimators=500, min_samples_leaf=3, n_jobs=-1, random_state=21)\n",
    "model_fit_predict(clf_rfc, X_train_balanced, y_train_balanced, X_test, y_test)"
   ]
  },
  {
   "cell_type": "markdown",
   "metadata": {},
   "source": [
    "### XGBoost"
   ]
  },
  {
   "cell_type": "code",
   "execution_count": 30,
   "metadata": {},
   "outputs": [
    {
     "name": "stdout",
     "output_type": "stream",
     "text": [
      "Precision: 0.3351278600269179\n",
      "Recall: 0.3601735776277724\n",
      "F1: 0.34719962816639555\n",
      "Log Loss: 0.11308792205636713\n",
      "ROC AUC: 0.9053838219253862\n",
      "\n",
      "<class 'xgboost.sklearn.XGBClassifier'> fit and predict is successfully\n",
      "run time: 0:01:16.744884\n"
     ]
    },
    {
     "data": {
      "text/plain": [
       "XGBClassifier(base_score=0.5, booster=None, colsample_bylevel=1,\n",
       "              colsample_bynode=1, colsample_bytree=1, gamma=0, gpu_id=-1,\n",
       "              importance_type='gain', interaction_constraints=None,\n",
       "              learning_rate=0.1, max_delta_step=0, max_depth=6,\n",
       "              min_child_weight=1, missing=nan, monotone_constraints=None,\n",
       "              n_estimators=100, n_jobs=-1, num_parallel_tree=1,\n",
       "              objective='binary:logistic', random_state=21, reg_alpha=0,\n",
       "              reg_lambda=1, scale_pos_weight=1, subsample=1, tree_method=None,\n",
       "              validate_parameters=False, verbosity=None)"
      ]
     },
     "execution_count": 30,
     "metadata": {},
     "output_type": "execute_result"
    }
   ],
   "source": [
    "clf_xgb = xgb.XGBClassifier(n_estimators=100, learning_rate=0.1, random_state=21, n_jobs=-1)\n",
    "model_fit_predict(clf_xgb, X_train_balanced, y_train_balanced, X_test, y_test)"
   ]
  },
  {
   "cell_type": "markdown",
   "metadata": {},
   "source": [
    "### CatBoost"
   ]
  },
  {
   "cell_type": "code",
   "execution_count": 31,
   "metadata": {},
   "outputs": [
    {
     "name": "stdout",
     "output_type": "stream",
     "text": [
      "Precision: 0.35532493204843096\n",
      "Recall: 0.34667309546769526\n",
      "F1: 0.3509456985967053\n",
      "Log Loss: 0.10947544512118236\n",
      "ROC AUC: 0.903898862713141\n",
      "\n",
      "<class 'catboost.core.CatBoostClassifier'> fit and predict is successfully\n",
      "run time: 0:00:22.583423\n"
     ]
    },
    {
     "data": {
      "text/plain": [
       "<catboost.core.CatBoostClassifier at 0x1d2802c2e10>"
      ]
     },
     "execution_count": 31,
     "metadata": {},
     "output_type": "execute_result"
    }
   ],
   "source": [
    "clf_ctb = CatBoostClassifier(n_estimators=100, learning_rate=0.1,\n",
    "                             random_state=21, langevin=True,\n",
    "                             thread_count=-1, logging_level='Silent')\n",
    "\n",
    "model_fit_predict(clf_ctb, X_train_balanced, y_train_balanced, X_test, y_test)"
   ]
  },
  {
   "cell_type": "markdown",
   "metadata": {},
   "source": [
    "## Отбор признаков"
   ]
  },
  {
   "cell_type": "markdown",
   "metadata": {},
   "source": [
    "#### RFE (Recursive Feature Elimination)"
   ]
  },
  {
   "cell_type": "code",
   "execution_count": 32,
   "metadata": {},
   "outputs": [
    {
     "name": "stdout",
     "output_type": "stream",
     "text": [
      "Optimal number of features : 15\n"
     ]
    }
   ],
   "source": [
    "STEP = 5\n",
    "\n",
    "selector = RFECV(estimator=clf_lr, step=STEP, cv=StratifiedKFold(2), scoring='f1')\n",
    "selector.fit(X_train_balanced, y_train_balanced)\n",
    "\n",
    "good_features = X.columns[selector.support_]\n",
    "print(\"Optimal number of features : %d\" % selector.n_features_)"
   ]
  },
  {
   "cell_type": "code",
   "execution_count": 33,
   "metadata": {},
   "outputs": [
    {
     "data": {
      "image/png": "[encoded data removed]",
      "text/plain": [
       "<Figure size 864x432 with 1 Axes>"
      ]
     },
     "metadata": {
      "needs_background": "light"
     },
     "output_type": "display_data"
    }
   ],
   "source": [
    "plt.figure(figsize=(12,6))\n",
    "sns.set(font_scale=1)\n",
    "plt.plot(range(1, len(selector.grid_scores_) + 1), selector.grid_scores_, 'o-')\n",
    "plt.xlabel(\"Number of features selected\")\n",
    "plt.ylabel(\"Cross validation F1-score\")\n",
    "plt.xticks(range(1, len(selector.grid_scores_) + 1), reversed(list(range(X_train.shape[1], 1, -STEP))))\n",
    "plt.show()"
   ]
  },
  {
   "cell_type": "markdown",
   "metadata": {},
   "source": [
    "#### Feature Importance"
   ]
  },
  {
   "cell_type": "code",
   "execution_count": 34,
   "metadata": {},
   "outputs": [
    {
     "name": "stdout",
     "output_type": "stream",
     "text": [
      "Precision: 0.3351278600269179\n",
      "Recall: 0.3601735776277724\n",
      "F1: 0.34719962816639555\n",
      "Log Loss: 0.11308792205636713\n",
      "ROC AUC: 0.9053838219253862\n",
      "\n",
      "<class 'xgboost.sklearn.XGBClassifier'> fit and predict is successfully\n",
      "run time: 0:01:16.161548\n"
     ]
    },
    {
     "data": {
      "image/png": "[encoded data removed]",
      "text/plain": [
       "<Figure size 1152x432 with 1 Axes>"
      ]
     },
     "metadata": {},
     "output_type": "display_data"
    }
   ],
   "source": [
    "fitted_clf = model_fit_predict(clf_xgb, X_train_balanced, y_train_balanced, X_test, y_test)\n",
    "feature_importance_XGB = plot_importance(fitted_clf.feature_importances_, X.columns, 'Features Importance')"
   ]
  },
  {
   "cell_type": "code",
   "execution_count": 35,
   "metadata": {},
   "outputs": [
    {
     "name": "stdout",
     "output_type": "stream",
     "text": [
      "Precision: 0.3334697217675941\n",
      "Recall: 0.39296046287367403\n",
      "F1: 0.36077910579902606\n",
      "Log Loss: 0.11459908175279239\n",
      "ROC AUC: 0.9005224503107401\n",
      "\n",
      "<class 'xgboost.sklearn.XGBClassifier'> fit and predict is successfully\n",
      "run time: 0:00:31.783214\n",
      "Признаков было: 60\n",
      "Признаков стало: 20\n"
     ]
    }
   ],
   "source": [
    "X_train_FI = pd.DataFrame(X_train_balanced, columns=X.columns)[feature_importance_XGB[0][:20]]\n",
    "X_test_FI = pd.DataFrame(X_test, columns=X.columns)[feature_importance_XGB[0][:20]]\n",
    "\n",
    "fitted_clf = model_fit_predict(clf_xgb, X_train_FI, y_train_balanced, X_test_FI, y_test)\n",
    "\n",
    "print('Признаков было:', X_train.shape[1])\n",
    "print('Признаков стало:', X_train_FI.shape[1])"
   ]
  },
  {
   "cell_type": "markdown",
   "metadata": {},
   "source": [
    "#### Взаимная информация"
   ]
  },
  {
   "cell_type": "code",
   "execution_count": 36,
   "metadata": {},
   "outputs": [],
   "source": [
    "mic = mutual_info_classif(X_train_balanced, y_train_balanced)"
   ]
  },
  {
   "cell_type": "code",
   "execution_count": 37,
   "metadata": {},
   "outputs": [
    {
     "data": {
      "image/png": "[encoded data removed]",
      "text/plain": [
       "<Figure size 1152x432 with 1 Axes>"
      ]
     },
     "metadata": {},
     "output_type": "display_data"
    }
   ],
   "source": [
    "feature_importance_MIC = plot_importance(mic, X.columns, 'Mutual_Info')"
   ]
  },
  {
   "cell_type": "code",
   "execution_count": 38,
   "metadata": {},
   "outputs": [
    {
     "name": "stdout",
     "output_type": "stream",
     "text": [
      "Precision: 0.3302393746946751\n",
      "Recall: 0.32594021215043395\n",
      "F1: 0.3280757097791798\n",
      "Log Loss: 0.11797106794614101\n",
      "ROC AUC: 0.8957481202388257\n",
      "\n",
      "<class 'xgboost.sklearn.XGBClassifier'> fit and predict is successfully\n",
      "run time: 0:00:33.308712\n"
     ]
    }
   ],
   "source": [
    "X_train_MIC = pd.DataFrame(X_train_balanced, columns=X.columns)[feature_importance_MIC[0][:20]]\n",
    "X_test_MIC = pd.DataFrame(X_test, columns=X.columns)[feature_importance_MIC[0][:20]]\n",
    "\n",
    "fitted_clf = model_fit_predict(clf_xgb, X_train_MIC, y_train_balanced, X_test_MIC, y_test)"
   ]
  },
  {
   "cell_type": "code",
   "execution_count": 39,
   "metadata": {},
   "outputs": [
    {
     "data": {
      "image/png": "[encoded data removed]",
      "text/plain": [
       "<Figure size 1440x1080 with 2 Axes>"
      ]
     },
     "metadata": {},
     "output_type": "display_data"
    }
   ],
   "source": [
    "def get_corr_matrix_plot(data):\n",
    "    plt.figure(figsize = (20,15))\n",
    "\n",
    "    sns.set(font_scale=1.8)\n",
    "    sns.heatmap(data.corr(), annot=False, linewidths=0.5, cmap='GnBu')\n",
    "\n",
    "    plt.title('Correlation matrix')\n",
    "    plt.show()\n",
    "    \n",
    "get_corr_matrix_plot(X_train_FI)"
   ]
  },
  {
   "cell_type": "code",
   "execution_count": 40,
   "metadata": {},
   "outputs": [],
   "source": [
    "# финальный класификатор\n",
    "clf_final = xgb.XGBClassifier(n_estimators=500, learning_rate=0.1, random_state=21, n_jobs=-1, max_depth=5)\n",
    "\n",
    "best_feature = feature_importance_XGB[0][:20]"
   ]
  },
  {
   "cell_type": "markdown",
   "metadata": {},
   "source": [
    "### Оценка качества модели"
   ]
  },
  {
   "cell_type": "code",
   "execution_count": 41,
   "metadata": {},
   "outputs": [],
   "source": [
    "def plot_confusion_matrix(y_true, y_pred, classes, cmap=plt.cm.Blues):\n",
    "    TN, FP, FN, TP = confusion_matrix(y_true, y_pred).ravel()\n",
    "    cm = np.array([[TP, FP],\n",
    "                   [FN, TN]])\n",
    "    cm_normalized = cm.astype('float') / cm.sum(axis=0)\n",
    "    # Plot both matrixes - basic and normalized\n",
    "    fig, ax = plt.subplots(nrows=1, ncols=2, figsize=(10,10))\n",
    "    for ax, normalize, data, title in zip(ax,\n",
    "                                          [False, True], \n",
    "                                          [cm, cm_normalized], \n",
    "                                          ['Confusion matrix (without normalization)', \n",
    "                                           'Сonfusion matrix (normalized)']):\n",
    "        im = ax.imshow(data, interpolation='nearest', cmap=cmap)\n",
    "        divider = make_axes_locatable(ax)\n",
    "        cax = divider.append_axes('right', size='5%', pad=0.1)\n",
    "        fig.colorbar(im, cax=cax)\n",
    "        ax.set(xticks=np.arange(data.shape[1]),\n",
    "               yticks=np.arange(data.shape[0]),\n",
    "               xticklabels=classes, \n",
    "               yticklabels=classes,\n",
    "               title=title,\n",
    "               ylabel='Predicted label',\n",
    "               xlabel='True label')\n",
    "        plt.setp(ax.get_xticklabels(), rotation=45, ha='right', rotation_mode='anchor')        \n",
    "        # Loop over data dimensions and create text annotations\n",
    "        fmt = '.2f' if normalize else 'd'\n",
    "        for i in range(data.shape[0]):\n",
    "            for j in range(data.shape[1]):\n",
    "                ax.text(j, i, format(data[i, j], fmt), ha=\"center\", va=\"center\", \n",
    "                        color=\"white\" if data[i, j] > data.max() / 2. else \"black\")                \n",
    "    fig.tight_layout()\n",
    "    return fig \n",
    "\n",
    "def plot_PR_curve(y_true, y_pred, y_prob):\n",
    "    AP = average_precision_score(y_true=y_true, y_score=y_prob)\n",
    "    precisions, recalls, thresholds = precision_recall_curve(y_true=y_true, probas_pred=y_prob)\n",
    "    \n",
    "    plt.step(recalls, precisions, color='b', alpha=0.2, where='post')\n",
    "    plt.fill_between(recalls, precisions, alpha=0.2, color='b', step='post')\n",
    "    plt.xlabel('Recall')\n",
    "    plt.ylabel('Precision')\n",
    "    plt.ylim([0.0, 1.05])\n",
    "    plt.xlim([0.0, 1.0])\n",
    "    plt.title('PR curve: AP={0:0.2f}'.format(AP))\n",
    "    \n",
    "def plot_ROC_curve(classifier, X, y, n_folds):\n",
    "    \n",
    "    cv = StratifiedKFold(n_splits=n_folds)\n",
    "    tprs = []\n",
    "    aucs = []\n",
    "    mean_fpr = np.linspace(0, 1, 100)\n",
    "    i = 0\n",
    "    \n",
    "    for train, test in cv.split(X, y):\n",
    "        probas_ = classifier.fit(X[train], y[train]).predict_proba(X[test])\n",
    "        fpr, tpr, thresholds = roc_curve(y[test], probas_[:, 1])\n",
    "        tprs.append(interp(mean_fpr, fpr, tpr))\n",
    "        tprs[-1][0] = 0.0\n",
    "        roc_auc = auc(fpr, tpr)\n",
    "        aucs.append(roc_auc)\n",
    "        plt.plot(fpr, tpr, lw=1, alpha=0.3, label='ROC fold %d (AUC = %0.2f)' % (i, roc_auc))\n",
    "        i += 1\n",
    "        \n",
    "    plt.plot([0, 1], [0, 1], linestyle='--', lw=2, color='r', label='Chance', alpha=.8)\n",
    "\n",
    "    mean_tpr = np.mean(tprs, axis=0)\n",
    "    mean_tpr[-1] = 1.0\n",
    "    mean_auc = auc(mean_fpr, mean_tpr)\n",
    "    std_auc = np.std(aucs)\n",
    "    plt.plot(mean_fpr, mean_tpr, color='b', label=r'Mean ROC (AUC = %0.2f $\\pm$ %0.2f)' % \\\n",
    "             (mean_auc, std_auc), lw=2, alpha=.8)\n",
    "\n",
    "    std_tpr = np.std(tprs, axis=0)\n",
    "    tprs_upper = np.minimum(mean_tpr + std_tpr, 1)\n",
    "    tprs_lower = np.maximum(mean_tpr - std_tpr, 0)\n",
    "    plt.fill_between(mean_fpr, tprs_lower, tprs_upper, color='grey', alpha=.2, label=r'$\\pm$ 1 std. dev.')\n",
    "\n",
    "    plt.xlim([-0.05, 1.05])\n",
    "    plt.ylim([-0.05, 1.05])\n",
    "    plt.xlabel('False Positive Rate')\n",
    "    plt.ylabel('True Positive Rate')\n",
    "    plt.title('Receiver operating characteristic example')\n",
    "    plt.legend(loc=\"lower right\")\n",
    "    plt.show()"
   ]
  },
  {
   "cell_type": "code",
   "execution_count": 42,
   "metadata": {
    "scrolled": true
   },
   "outputs": [
    {
     "data": {
      "text/plain": [
       "<Figure size 864x432 with 0 Axes>"
      ]
     },
     "metadata": {},
     "output_type": "display_data"
    },
    {
     "data": {
      "image/png": "[encoded data removed]",
      "text/plain": [
       "<Figure size 720x720 with 4 Axes>"
      ]
     },
     "metadata": {},
     "output_type": "display_data"
    }
   ],
   "source": [
    "plt.figure(figsize = (12,6))\n",
    "sns.set(font_scale=1)\n",
    "\n",
    "model = clf_final.fit(X_train, y_train)\n",
    "predict_test = model.predict(X_test)\n",
    "predict_test_probas = model.predict_proba(X_test)[:, 1]\n",
    "\n",
    "plot_confusion_matrix(y_test.values, predict_test, classes=['churn', 'active'])\n",
    "plt.show()"
   ]
  },
  {
   "cell_type": "code",
   "execution_count": 43,
   "metadata": {},
   "outputs": [
    {
     "data": {
      "image/png": "[encoded data removed]",
      "text/plain": [
       "<Figure size 432x288 with 1 Axes>"
      ]
     },
     "metadata": {},
     "output_type": "display_data"
    }
   ],
   "source": [
    "plot_PR_curve(y_test.values, predict_test, predict_test_probas)\n",
    "plt.show()"
   ]
  },
  {
   "cell_type": "code",
   "execution_count": 44,
   "metadata": {},
   "outputs": [
    {
     "data": {
      "image/png": "[encoded data removed]",
      "text/plain": [
       "<Figure size 432x288 with 1 Axes>"
      ]
     },
     "metadata": {},
     "output_type": "display_data"
    }
   ],
   "source": [
    "plot_ROC_curve(classifier=model, \n",
    "               X=X_test, \n",
    "               y=y_test.values, \n",
    "               n_folds=3)"
   ]
  },
  {
   "cell_type": "code",
   "execution_count": 45,
   "metadata": {},
   "outputs": [],
   "source": [
    "def show_proba_calibration_plots(y_predicted_probs, y_true_labels):\n",
    "    preds_with_true_labels = np.array(list(zip(y_predicted_probs, y_true_labels)))\n",
    "\n",
    "    thresholds = []\n",
    "    precisions = []\n",
    "    recalls = []\n",
    "    f1_scores = []\n",
    "\n",
    "    for threshold in np.linspace(0.1, 0.9, 9):\n",
    "        thresholds.append(threshold)\n",
    "        precisions.append(precision_score(y_true_labels, list(map(int, y_predicted_probs > threshold))))\n",
    "        recalls.append(recall_score(y_true_labels, list(map(int, y_predicted_probs > threshold))))\n",
    "        f1_scores.append(f1_score(y_true_labels, list(map(int, y_predicted_probs > threshold))))\n",
    "\n",
    "    scores_table = pd.DataFrame({'f1':f1_scores,\n",
    "                                 'precision':precisions,\n",
    "                                 'recall':recalls,\n",
    "                                 'probability':thresholds}).sort_values('f1', ascending=False).round(3)\n",
    "  \n",
    "    figure = plt.figure(figsize = (15, 5))\n",
    "\n",
    "    plt1 = figure.add_subplot(121)\n",
    "    plt1.plot(thresholds, precisions, label='Precision', linewidth=4)\n",
    "    plt1.plot(thresholds, recalls, label='Recall', linewidth=4)\n",
    "    plt1.plot(thresholds, f1_scores, label='F1', linewidth=4)\n",
    "    plt1.set_ylabel('Scores')\n",
    "    plt1.set_xlabel('Probability threshold')\n",
    "    plt1.set_title('Probabilities threshold calibration')\n",
    "    plt1.legend(bbox_to_anchor=(0.25, 0.25))   \n",
    "    plt1.table(cellText = scores_table.values,\n",
    "               colLabels = scores_table.columns, \n",
    "               colLoc = 'center', cellLoc = 'center', loc = 'bottom', bbox = [0, -1.3, 1, 1])\n",
    "\n",
    "    plt2 = figure.add_subplot(122)\n",
    "    plt2.hist(preds_with_true_labels[preds_with_true_labels[:, 1] == 0][:, 0], \n",
    "              label='Another class', color='royalblue', alpha=1)\n",
    "    plt2.hist(preds_with_true_labels[preds_with_true_labels[:, 1] == 1][:, 0], \n",
    "              label='Main class', color='darkcyan', alpha=0.8)\n",
    "    plt2.set_ylabel('Number of examples')\n",
    "    plt2.set_xlabel('Probabilities')\n",
    "    plt2.set_title('Probability histogram')\n",
    "    plt2.legend(bbox_to_anchor=(1, 1))\n",
    "\n",
    "    plt.show()"
   ]
  },
  {
   "cell_type": "code",
   "execution_count": 46,
   "metadata": {},
   "outputs": [
    {
     "data": {
      "image/png": "[encoded data removed]",
      "text/plain": [
       "<Figure size 1080x360 with 2 Axes>"
      ]
     },
     "metadata": {},
     "output_type": "display_data"
    }
   ],
   "source": [
    "show_proba_calibration_plots(predict_test_probas, y_test)"
   ]
  },
  {
   "cell_type": "markdown",
   "metadata": {},
   "source": [
    "### Подготовка данных для предсказания"
   ]
  },
  {
   "cell_type": "code",
   "execution_count": 47,
   "metadata": {},
   "outputs": [],
   "source": [
    "X_best_train = train_new.drop(['user_id', 'is_churned'], axis=1)[best_feature]\n",
    "y_best_train = train_new['is_churned']\n",
    "\n",
    "scaler = StandardScaler()\n",
    "X_ss = scaler.fit_transform(X_best_train)\n",
    "\n",
    "X_full_train_balanced, y_full_train_balanced = ADASYN(random_state=21,\n",
    "                                                      sampling_strategy=0.4).fit_sample(X_ss,\n",
    "                                                                                        y_best_train)"
   ]
  },
  {
   "cell_type": "code",
   "execution_count": 48,
   "metadata": {},
   "outputs": [],
   "source": [
    "X_test_final = scaler.transform(test_new.drop(['user_id'], axis=1)[best_feature])"
   ]
  },
  {
   "cell_type": "code",
   "execution_count": 49,
   "metadata": {},
   "outputs": [],
   "source": [
    "model_final = clf_final.fit(X_full_train_balanced, y_full_train_balanced)\n",
    "predict_results = model_final.predict(X_test_final)\n",
    "predict_results_probas = model_final.predict_proba(X_test_final)[:, 1]"
   ]
  },
  {
   "cell_type": "code",
   "execution_count": 50,
   "metadata": {},
   "outputs": [],
   "source": [
    "# calibration\n",
    "predict_results_calbr = predict_results.copy()\n",
    "predict_results_calbr[np.where(predict_results_probas > 0.3)] = 1"
   ]
  },
  {
   "cell_type": "code",
   "execution_count": 51,
   "metadata": {},
   "outputs": [
    {
     "name": "stdout",
     "output_type": "stream",
     "text": [
      "До калибровки: Counter({0: 43733, 1: 1031})\n",
      "После калибровки: Counter({0: 42607, 1: 2157})\n"
     ]
    }
   ],
   "source": [
    "print(f'До калибровки: {Counter(predict_results)}')\n",
    "print(f'После калибровки: {Counter(predict_results_calbr)}')"
   ]
  },
  {
   "cell_type": "code",
   "execution_count": 52,
   "metadata": {},
   "outputs": [],
   "source": [
    "with open('models/model_xgb_final.pcl', 'wb') as f:\n",
    "    pickle.dump(model_final, f)\n",
    "    \n",
    "with open('models/standard_scaler_final.pcl', 'wb') as f:\n",
    "    pickle.dump(scaler, f)"
   ]
  },
  {
   "cell_type": "code",
   "execution_count": 53,
   "metadata": {},
   "outputs": [],
   "source": [
    "pred_is_churned = pd.DataFrame({'user_id': test_new['user_id'], 'is_churned': predict_results_calbr},\n",
    "                               columns=['user_id', 'is_churned'])\n",
    "pred_is_churned.to_csv('Predictions.csv', sep=',', index=None, encoding='utf-8')"
   ]
  },
  {
   "cell_type": "code",
   "execution_count": 54,
   "metadata": {},
   "outputs": [
    {
     "name": "stdout",
     "output_type": "stream",
     "text": [
      "Notebook work: 1:46:15.995145\n"
     ]
    }
   ],
   "source": [
    "print(f'Notebook work: {time_format(time.time()-start_notebook)}')"
   ]
  }
 ],
 "metadata": {
  "kernelspec": {
   "display_name": "Python 3",
   "language": "python",
   "name": "python3"
  },
  "language_info": {
   "codemirror_mode": {
    "name": "ipython",
    "version": 3
   },
   "file_extension": ".py",
   "mimetype": "text/x-python",
   "name": "python",
   "nbconvert_exporter": "python",
   "pygments_lexer": "ipython3",
   "version": "3.7.3"
  }
 },
 "nbformat": 4,
 "nbformat_minor": 2
}
