{
 "cells": [
  {
   "cell_type": "markdown",
   "metadata": {},
   "source": [
    "__1. Напишите функцию, которая возвращает сумму двух вещественных аргументов a и b, а к ней декоратор, который делает так, чтобы возвращаемое значение функцией было по модулю 5.__"
   ]
  },
  {
   "cell_type": "code",
   "execution_count": 1,
   "metadata": {},
   "outputs": [],
   "source": [
    "def module_5(func):\n",
    "    def wrapper(*args):\n",
    "        module = func(*args) % 5\n",
    "        return module\n",
    "    return wrapper"
   ]
  },
  {
   "cell_type": "code",
   "execution_count": 2,
   "metadata": {},
   "outputs": [],
   "source": [
    "@module_5\n",
    "def sum_func(a, b):\n",
    "    return a + b"
   ]
  },
  {
   "cell_type": "code",
   "execution_count": 3,
   "metadata": {},
   "outputs": [
    {
     "name": "stdout",
     "output_type": "stream",
     "text": [
      "4\n",
      "1.0\n",
      "0\n",
      "1.0\n"
     ]
    }
   ],
   "source": [
    "print(sum_func(5, 4))\n",
    "print(sum_func(11.5, 4.5))\n",
    "print(sum_func(2, 3))\n",
    "print(sum_func(2.5, 3.5))"
   ]
  },
  {
   "cell_type": "markdown",
   "metadata": {},
   "source": [
    "__2. Попробуйте описать своими словами основные отличия SMOTE от ADASYN, ознакомившись с документацией к ним.__"
   ]
  },
  {
   "cell_type": "markdown",
   "metadata": {},
   "source": [
    "ADASYN сосредоточится на выборках, которые трудно классифицировать по правилу ближайших соседей, в то время как обычный SMOTE не будет делать никаких различий. SMOTE может связывать внутренние и внешние значения, в то время как ADASYN может фокусироваться исключительно на выбросах.\n",
    "\n",
    "SMOTE линейно уплотняет соседей минорного класса, а ADASYN делает то же, но с улучшением - добавляет небольшой шум в синтетические примеры, делая их более реалистичными. А также использует распределение плотности объектов, чтобы определить, сколько синтетических примеров нужно создать для каждого из минорных объектов."
   ]
  }
 ],
 "metadata": {
  "kernelspec": {
   "display_name": "Python 3",
   "language": "python",
   "name": "python3"
  },
  "language_info": {
   "codemirror_mode": {
    "name": "ipython",
    "version": 3
   },
   "file_extension": ".py",
   "mimetype": "text/x-python",
   "name": "python",
   "nbconvert_exporter": "python",
   "pygments_lexer": "ipython3",
   "version": "3.7.3"
  }
 },
 "nbformat": 4,
 "nbformat_minor": 2
}
